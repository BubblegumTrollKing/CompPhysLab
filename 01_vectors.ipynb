{
 "cells": [
  {
   "cell_type": "markdown",
   "id": "99aa72e3-eac9-4469-84f0-d60654a87e54",
   "metadata": {},
   "source": [
    "# PHZ1140C Vectors\n",
    "\n",
    "## Tips\n",
    "\n",
    "  * Use __esc r__ to disable a cell\n",
    "  * Use __esc y__ to reactivate it\n",
    "  * Use __esc m__ to go to markdown mode\n",
    "  * Shift + return to execute a cell\n",
    "\n",
    "Click [here](https://www.w3schools.com/python/default.asp) for an excellent Python online tutorial.\n",
    "\n",
    "## Goal\n",
    "\n",
    "The purpose of this notebook is to help you become familiar with vectors.\n",
    "\n",
    "## What is a vector?\n",
    "\n",
    "Many quantities in physics including __displacement__, __velocity__, and __force__ can be represented as vectors. \n",
    "\n",
    "Consider, for example, displacement. As the name implies, displacement has something to do with starting at one place and ending up somewhere else. Suppose you started in Tallahassee, Florida, and ended up in Atlanda, Georgia. Perhaps you flew from Tallahassee to Atlanta, or perhaps you decided to drive. Perhaps you first drove east on the I10 and then north on the I75; or perhaps you chose to drive on state roads and then join the I75 further north. \n",
    "\n",
    "There are many paths you could have taken to go from Tallahassee to Atlanta. But of all the paths between your starting and end points there is one that is the shortest. This is necessarily the straight line from your starting point to your end point. Of course, in reality, we can't take this path because a straight tunnel does not exist between Tallahassee and Atlanta! \n",
    "\n",
    "By definition, displacement is a mathematical object that represents the operation of starting from one point and ending at another by following a straight line between the two points. A displacement, therefore, has two attributes: a __magnitude__, in this case the straight line distance between the two points, and a __direction__. A __vector__ is a quantity that encodes a magnitude, which is always positive or zero, and a direction. \n",
    "\n",
    "## Representing and encoding a vector\n",
    "\n",
    "Suppose that $v$ represents the magnitude of a vector. To remind us that a vector also has a direction, we use  $\\vec{v}$ as the symbolic representation of the vector whose magnitude is $v$. Another conventon is to use bold type, $\\boldsymbol{v}$, to represent a vector. To remind us that a magnitude cannot be negative, we sometimes represent the magnitude of a vector using the symbol $|\\vec{v}|$ or $|\\boldsymbol{v}|$. \n",
    "\n",
    "A conceptually appealing way of encoding the two attributes of a vector is as an arrow. The length of the arrow, which cannot be negative, is the magnitude, while the direction of the arrow is the direction of the vector. \n",
    "\n",
    "Another obvious \n",
    "way to encode, or represent, a vector is as a __tuple__, $(m, d)$, where $m$ is the magnitude and $d$ is the direction. For example, a velocity $\\vec{v}$ could be encoded as follows:  $\\vec{v} = (30 \\text{ mph}, \\text{$15^\\text{o}$ East of North})$.\n",
    "\n",
    "Vectors can be multiplied or divided by a number, that is, scaled. Suppose we multiply a vector by a positive factor $f$. We need to agree on what we want this to mean. Let's agree that this means we scale the *magnitude* of the vector by the factor $f$, while leaving the direction unchanged. This means that the new and old vectors would be parallel to each other since they are pointing in the same direction. Going back to our velocity example, this would mean that\n",
    "the new vector $\\vec{w}$ is given by\n",
    "\\begin{align}\n",
    "    \\vec{w} & = f \\, \\vec{v},\\\\\n",
    "            & = (f \\times 30 \\text{ mph}, \\text{$15^\\text{o}$ East of North}).\n",
    "\\end{align}\n",
    "\n",
    "Unfortunately, the equation above illustrates a problem with our tuple representation. Since we agree only to change the magnitude, we are forced to treat the first entry of the tuple differently from the second entry. There is another problem.\n",
    "\n",
    "Notice that if we scale a vector by the inverse of its magnitude, that is, we compute $ \\vec{v} \\, / \\, v$, then the resulting vector will have a magnitude of one and have the same direction as the vector $\\vec{v}$. Moreover, the magnitude of the scaled vector will be dimensionless, that is, it will have no units. A dimensionless vector with a magnitude of one is called a __unit__ vector. It is represented with a symbol decorated with a \"hat\", e.g., $\\hat{v}$. \n",
    "\n",
    "The third problem with our tuple representation of a vector is that the magnitude may or may not be dimensionless, while the direction is always dimensionless. \n",
    "Yet another problem with the tuple representation is that if we scale the vector by a negative number, $f$, our previous rule for creating a new vector no longer works because magnitudes cannot be negative! So we need to change our rule and scale the magnitude by the *absolute* value of the scale factor $f$, denoted by the symbol $|f|$. \n",
    "\n",
    "But what do we do with the negative sign? Well, let's suppose it makes sense to add and subtract vectors. Then, if $f = -1$, it is surely natural to require that $\\vec{A} +  f \\, \\vec{A} = 0$. That makes a lot of sense. \n",
    "\n",
    "Suppose we go from point A to point B in a straight line, a displacement denoted by $\\vec{D}$. Then going from B to A is a displacement in exactly the opposite direction. Therefore, it makes sense to interpret the vector $-\\vec{D}$ as a vector of the same magnitude as $\\vec{D}$ but pointing in exactly the opposite direction. Clearly, if I go from A to B and then B to A, my net displacement is zero because it is as if I haven't moved! Therefore, it makes sense that $\\vec{D} - \\vec{D} = 0$. In summary, if we scale a vector by the number $f$ our rule must be this: scale the magnitude by $|f|$, thereby keeping the magnitude positive, and leave the direction unchanged unless $f$ is negative in which case reverse the direction of the vector.\n",
    "\n",
    "This rule is somewhat messy! It would be nice to find a representation of a vector, inspired by its arrow representation, which treats the magnitude and direction in a tidy, uniform, way.\n",
    "\n",
    "\n",
    "## Vector algebra\n",
    "\n",
    "There is such a representation, namely, an $n$-tuple, where for the vectors we'll be using $n = 3$. (Physicists, routinely deal with vectors in $n > 3$ dimensions, even $n = \\infty$!) The key point about vectors, as alluded to, is that they can be manipulated algebraically. There exists an algebra of vectors. Vectors can be scaled, they can be added, subtracted, and multiplied. For example, if I go from point A to point B and then from point B to point C, it is the same as going from point A to C. Therefore, if $\\vec{a}$ is the displacement from A to B, $\\vec{b}$ the displacement from B to C and $\\vec{c}$ the displacement from A to C, we define vector addition by\n",
    "\n",
    "\\begin{align}\n",
    "\\vec{c} & = \\vec{a} + \\vec{b}.\n",
    "\\end{align}\n",
    "\n",
    "In terms of the arrow representation of vectors, this means an arrow with its tail at A and its head at B, another with its tail at B and its head at C, while the arrow that represents $\\vec{c}$ has its tail at A and its head at C.\n",
    "\n",
    "But now we come to a crucial observation about vector addition. Since a vector has two attributes only, magnitude and direction, we are free to move the vector around so long as it maintains its direction and its magnitude (think of moving arrows around while maintaining their directions). Therefore, we can go from A to C with a displacement along the vector $\\vec{b}$ first and then with a displacement along the vector $\\vec{a}$, that is, we can write\n",
    "\n",
    "\\begin{align}\n",
    "\\vec{c} & = \\vec{b} + \\vec{a}.\n",
    "\\end{align}\n",
    "\n",
    "This shows that the addition of vectors behaves like the addition of numbers in that the operation of addition is commutative, e.g.: 2 + 3 = 3 + 2.\n",
    "\n",
    "### Coordinate vectors\n",
    "\n",
    "The fact that vectors can be added and subtracted suggests a better algebraic way to represent them. Suppose we have designated some point in space to be a marker with respect to which the positions of all other points are specified. The special marker is called the __origin__. Since the choice of origin is arbitrary, we are free to choose it as we see fit. For example, if we are modeling the orbits of the inner planets, we may choose the center of the Sun as the origin. If we are modeling a projectile, it may be more convenient to choose the launch position as the origin. At the origin, we erect three mutually orthogonal lines, that is, lines such that each is at right angles to the other two. Let's label these lines, each an axis, $x$, $y$, and $z$. This construct is called a __Cartesian coordinate system__. We need three axes because space has 3 dimensions. A space with $n$ dimensions needs $n$ axes.\n",
    "\n",
    "Another way of thinking about the unit vectors is that they *define* the Cartesian coordinate system by specifying the directions of the three axes. Any point in space can be specified by giving three numbers, namely, the $x$, $y$, and $z$ coordinates with respect to the origin of the coordinate system along the directions specified by the associated unit vectors. There exist many coordinate systems. Since the surface of the Earth is 2-dimensional, we use a 2-dimensional coordinate system to specify a point on its surface. In special relativity, space and time are viewed as a 4-dimensional construct called spacetime. Any point in spacetime requires the specification of 4 numbers. \n",
    "\n",
    "A vector in 3-dimensional space can be represented by a 3-tuple. For example, the position of an object can be represented by a __position vector__  $\\vec{r} = (x, y, z)$, which simply specifies the $x$, $y$, and $z$ coordinates of the object with respect to the chosen origin. Likewise, a velocity can be specified by giving three numbers $\\vec{v} = (v_x, v_y, v_z)$. Since vectors can be scaled and added, we can write\n",
    "\\begin{align}\n",
    "    \\vec{r} & = x \\, \\hat{i} + y \\, \\hat{j} + z \\, \\hat{k}, \\\\\n",
    "    \\vec{v} & = v_x \\, \\hat{i} + v_y \\, \\hat{j} + v_z \\, \\hat{k}.\n",
    "\\end{align}\n",
    "Since $\\vec{r} = (x, y, z)$, it follows from the above that $\\hat{i} = (1, 0, 0)$, \n",
    "$\\hat{j} = (0, 1, 0)$, and $\\hat{k} = (0, 0, 1)$. \n",
    "\n",
    "An important point to note is that if we change the coordinate system, the three numbers that represent a vector, that is, the __vector components__, will in general change. But the vector they represent remains the same; the vector will have the same magnitude and the same direction. In that sense, a vector is an object that is independent of the coordinate system. We say it is a coordinate-independent object. Vector components are used only because they are convenient way to define a vector, but in many physics problems it is possible to work with vectors without ever having to consider their components. "
   ]
  },
  {
   "cell_type": "markdown",
   "id": "a04e6adc-8849-4431-9f29-1901d3a1b029",
   "metadata": {},
   "source": [
    "### Import Modules \n",
    "Make Python modules (that is, collections of programs) available to this notebook.\n"
   ]
  },
  {
   "cell_type": "code",
   "execution_count": 1,
   "id": "0352a958-c65a-4ace-bcd8-139417a3afbc",
   "metadata": {},
   "outputs": [
    {
     "data": {
      "text/html": [
       "<div id=\"glowscript\" class=\"glowscript\"></div>"
      ],
      "text/plain": [
       "<IPython.core.display.HTML object>"
      ]
     },
     "metadata": {},
     "output_type": "display_data"
    },
    {
     "data": {
      "application/javascript": [
       "if (typeof Jupyter !== \"undefined\") { window.__context = { glowscript_container: $(\"#glowscript\").removeAttr(\"id\")};}else{ element.textContent = ' ';}"
      ],
      "text/plain": [
       "<IPython.core.display.Javascript object>"
      ]
     },
     "metadata": {},
     "output_type": "display_data"
    }
   ],
   "source": [
    "import os, sys\n",
    "import numpy as np\n",
    "import matplotlib as mp\n",
    "import matplotlib.pyplot as plt\n",
    "import sympy as sm\n",
    "import scipy as sp\n",
    "import pandas as pd\n",
    "import vpython as vp\n",
    "import itertools as it\n",
    "\n",
    "sm.init_printing()        # activate \"pretty printing\" of symbolic expressions\n",
    "%matplotlib inline"
   ]
  },
  {
   "cell_type": "markdown",
   "id": "0bf90f47-5213-4686-8efb-2eadb1e17e56",
   "metadata": {},
   "source": [
    "### Setup fonts"
   ]
  },
  {
   "cell_type": "code",
   "execution_count": 2,
   "id": "46a8fbd2-2fcf-4d75-a7de-163501338afc",
   "metadata": {},
   "outputs": [],
   "source": [
    "# update fonts\n",
    "FONTSIZE = 14\n",
    "font = {'family' : 'sans-serif',\n",
    "        'weight' : 'normal',\n",
    "        'size'   : FONTSIZE}\n",
    "mp.rc('font', **font)\n",
    "\n",
    "# use latex if available on system, otherwise set usetex=False\n",
    "mp.rc('text', usetex=True)\n",
    "\n",
    "# set a seed to ensure reproducibility \n",
    "# on a given machine\n",
    "seed = 314159\n",
    "rnd  = np.random.RandomState(seed)"
   ]
  },
  {
   "cell_type": "markdown",
   "id": "09bfcebd-e180-4016-8ba1-d821389aabc8",
   "metadata": {},
   "source": [
    "### numpy basics"
   ]
  },
  {
   "cell_type": "code",
   "execution_count": 3,
   "id": "827cf8d7-412b-485d-8943-39f85190fb06",
   "metadata": {},
   "outputs": [
    {
     "data": {
      "text/plain": [
       "(array([1, 2, 3]), array([3, 2, 1]))"
      ]
     },
     "execution_count": 3,
     "metadata": {},
     "output_type": "execute_result"
    }
   ],
   "source": [
    "# 1. creating arrays\n",
    "a = np.array((1,2,3))\n",
    "b = np.array((3,2,1))\n",
    "a, b"
   ]
  },
  {
   "cell_type": "code",
   "execution_count": 4,
   "id": "257c86a9-05c2-4a5f-95df-1659a191e776",
   "metadata": {},
   "outputs": [
    {
     "data": {
      "text/plain": [
       "array([4, 4, 4])"
      ]
     },
     "execution_count": 4,
     "metadata": {},
     "output_type": "execute_result"
    }
   ],
   "source": [
    "# 2. compute a + b\n",
    "c = a + b\n",
    "c"
   ]
  },
  {
   "cell_type": "code",
   "execution_count": 5,
   "id": "8d1e5bec-1273-477a-aa66-2db994fe8f04",
   "metadata": {},
   "outputs": [
    {
     "data": {
      "text/plain": [
       "array([3, 4, 3])"
      ]
     },
     "execution_count": 5,
     "metadata": {},
     "output_type": "execute_result"
    }
   ],
   "source": [
    "# 3. compute a*b\n",
    "d = a * b\n",
    "d"
   ]
  },
  {
   "cell_type": "code",
   "execution_count": 6,
   "id": "9922271e-7573-4959-b28e-cb3871cb622e",
   "metadata": {},
   "outputs": [
    {
     "data": {
      "text/plain": [
       "10"
      ]
     },
     "execution_count": 6,
     "metadata": {},
     "output_type": "execute_result"
    }
   ],
   "source": [
    "# 4. compute sum(a*b)\n",
    "f = np.sum(d)\n",
    "f"
   ]
  },
  {
   "cell_type": "code",
   "execution_count": 7,
   "id": "cb816e94-c1b2-425b-ba9f-6303f90c690c",
   "metadata": {},
   "outputs": [
    {
     "data": {
      "text/plain": [
       "array([0.5, 1. , 1.5])"
      ]
     },
     "execution_count": 7,
     "metadata": {},
     "output_type": "execute_result"
    }
   ],
   "source": [
    "# 5. divide a by 2\n",
    "a2 = a / 2\n",
    "a2"
   ]
  },
  {
   "cell_type": "code",
   "execution_count": 8,
   "id": "d80ceb4a-acc7-4a54-8bfb-eb8d41c24734",
   "metadata": {},
   "outputs": [
    {
     "data": {
      "text/plain": [
       "array([1.        , 1.41421356, 1.73205081])"
      ]
     },
     "execution_count": 8,
     "metadata": {},
     "output_type": "execute_result"
    }
   ],
   "source": [
    "# 6. compute sqrt(a)\n",
    "sqa = np.sqrt(a)\n",
    "sqa"
   ]
  },
  {
   "cell_type": "code",
   "execution_count": 9,
   "id": "ca309a42-8c2f-4cd9-9ae1-4d885eba6e0f",
   "metadata": {},
   "outputs": [
    {
     "data": {
      "text/plain": [
       "array([[3, 2, 1],\n",
       "       [6, 4, 2],\n",
       "       [9, 6, 3]])"
      ]
     },
     "execution_count": 9,
     "metadata": {},
     "output_type": "execute_result"
    }
   ],
   "source": [
    "# 7. compute outer product of a and b\n",
    "ab = np.outer(a, b)\n",
    "ab"
   ]
  },
  {
   "cell_type": "code",
   "execution_count": 10,
   "id": "a1999a4a-b7ac-4b2e-903f-5991db62e31e",
   "metadata": {},
   "outputs": [
    {
     "data": {
      "text/plain": [
       "10"
      ]
     },
     "execution_count": 10,
     "metadata": {},
     "output_type": "execute_result"
    }
   ],
   "source": [
    "# 8. compute inner product of a and b\n",
    "abi = np.inner(a, b)\n",
    "abi"
   ]
  },
  {
   "cell_type": "code",
   "execution_count": 11,
   "id": "c81dde7f-c9b1-4df5-91a3-68e2526b1f6d",
   "metadata": {},
   "outputs": [
    {
     "data": {
      "text/plain": [
       "(array([[3],\n",
       "        [2],\n",
       "        [1]]),\n",
       " (3, 1))"
      ]
     },
     "execution_count": 11,
     "metadata": {},
     "output_type": "execute_result"
    }
   ],
   "source": [
    "# 9. convert b to a 2d array of shape (3, 1)\n",
    "b2 = b[:, np.newaxis]\n",
    "b2, b2.shape"
   ]
  },
  {
   "cell_type": "markdown",
   "id": "b955c700-5f37-4396-b403-c957b0f2b305",
   "metadata": {},
   "source": [
    "10. compute $a - b2$ and try to explain the result."
   ]
  },
  {
   "cell_type": "code",
   "execution_count": 12,
   "id": "145778f9-2254-458f-880d-b4b14be0734f",
   "metadata": {},
   "outputs": [
    {
     "data": {
      "text/plain": [
       "array([[-2, -1,  0],\n",
       "       [-1,  0,  1],\n",
       "       [ 0,  1,  2]])"
      ]
     },
     "execution_count": 12,
     "metadata": {},
     "output_type": "execute_result"
    }
   ],
   "source": [
    "# 10. compute a - b2\n",
    "ab2 = a - b2\n",
    "ab2"
   ]
  },
  {
   "cell_type": "code",
   "execution_count": 13,
   "id": "e9d04750-f582-4deb-87ea-d73be27a1bbd",
   "metadata": {},
   "outputs": [
    {
     "data": {
      "text/plain": [
       "array([ 0.54030231, -0.41614684, -0.9899925 ])"
      ]
     },
     "execution_count": 13,
     "metadata": {},
     "output_type": "execute_result"
    }
   ],
   "source": [
    "# 11. compute cos(a)\n",
    "cosa = np.cos(a)\n",
    "cosa"
   ]
  },
  {
   "cell_type": "code",
   "execution_count": 14,
   "id": "c65aefcf-8871-4f14-acc7-41f3236535ea",
   "metadata": {},
   "outputs": [
    {
     "data": {
      "text/plain": [
       "array([ 57.29577951, 114.59155903, 171.88733854])"
      ]
     },
     "execution_count": 14,
     "metadata": {},
     "output_type": "execute_result"
    }
   ],
   "source": [
    "# 12. compute acos(a) and convert the angles from radians to degrees\n",
    "acosa = np.arccos(cosa) * 180 / np.pi\n",
    "acosa"
   ]
  },
  {
   "cell_type": "markdown",
   "id": "005f31ca-b216-4839-9316-2448cbc08c74",
   "metadata": {},
   "source": [
    "## Exercise 1\n",
    "\n",
    "#### Dot product\n",
    "Given vectors $\\vec{A} = (A_x, A_y, A_z)$ and $\\vec{B} = (B_x, B_y, B_z)$ with components defined with respect to some coordinate system, the __dot product__ between them is \n",
    "\\begin{align}\n",
    "    \\vec{A} \\cdot \\vec{B} & = A_x B_x + A_y B_y + A_z B_z.\n",
    "\\end{align}\n",
    "At face value, this formula suggests that the dot product depends on the vector components and consequently on the coordinate system that is used to define them. In fact, the dot product is independent of the coordinate system. Try to show this by proving that  the dot product can be expressed as\n",
    "\\begin{align}\n",
    "    \\vec{A} \\cdot \\vec{B} & = A B \\cos(\\theta),\n",
    "\\end{align}\n",
    "where $A$ and $B$ are the magnitudes and $\\theta$ is the angle between the vectors. Since neither the magnitudes nor the angle between the vectors depend on the coordinate system, it follows that the dot product is likewise independent of the coordinate system. Therefore, we can use the first form of the dot product because it will give the same answer in all coordinate systems.\n",
    "\n",
    "#### Magnitude\n",
    "The magnitude of a vector is given by $A = \\sqrt{ \\vec{A} \\cdot \\vec{A}}$.\n",
    "\n",
    "### Exercise details\n",
    "Create two vectors $\\vec{A} = (2,3,6)$ and $\\vec{B}=(6,4,12)$ then answer the following questions\n",
    " \n",
    "  1. Compute the magnitude of each vector\n",
    "  2. Compute the unit vectors associated with each vector\n",
    "  3. Compute the dot product between the vectors using their components\n",
    "  4. Compute the angle between the vectors in radians\n",
    "  6. Compute $\\vec{C} = A + B$\n",
    "  7. Compute the dot product of $\\vec{C}$ with itself\n",
    "  8. Compute $A^2 + B^2 + 2\\vec{A}\\cdot\\vec{B}$. How does this compare with $C^2$?\n",
    "  9. Compute a vector $\\vec{D}$ that is perpendicular to $\\vec{A}$, which starts from the head of vector $\\vec{B}$ and which touches the vector $\\vec{A}$. Compute the dot product of this new vector with $\\vec{A}$. What value should you get?\n",
    "  \n"
   ]
  },
  {
   "cell_type": "markdown",
   "id": "8a7ce719-a863-4b8b-ad08-ae40a98fc427",
   "metadata": {},
   "source": [
    "\n",
    "[1]\n",
    "! Missing $ inserted.\n",
    "<inserted text> \n",
    "                $\n",
    "l.492 is, we compute \\$ \\vec\n",
    "                            {v} , / , v\\$, then the resulting vector will have\n",
    "? \n",
    "! Emergency stop.\n",
    "<inserted text> \n",
    "                $\n",
    "l.492 is, we compute \\$ \\vec\n",
    "                            {v} , / , v\\$, then the resulting vector will have\n",
    "Output written on notebook.pdf (1 page).\n",
    "Transcript written on notebook.log.\n"
   ]
  },
  {
   "cell_type": "code",
   "execution_count": null,
   "id": "c7f8933c-3f11-4c32-8955-0a385f884088",
   "metadata": {},
   "outputs": [],
   "source": []
  },
  {
   "cell_type": "code",
   "execution_count": null,
   "id": "def052ef-9c33-4c9a-aa41-a2840d9178c0",
   "metadata": {},
   "outputs": [],
   "source": []
  },
  {
   "cell_type": "code",
   "execution_count": null,
   "id": "c0eee87c-acd6-4789-9501-791eb3ee5f57",
   "metadata": {},
   "outputs": [],
   "source": []
  }
 ],
 "metadata": {
  "kernelspec": {
   "display_name": "Python 3 (ipykernel)",
   "language": "python",
   "name": "python3"
  },
  "language_info": {
   "codemirror_mode": {
    "name": "ipython",
    "version": 3
   },
   "file_extension": ".py",
   "mimetype": "text/x-python",
   "name": "python",
   "nbconvert_exporter": "python",
   "pygments_lexer": "ipython3",
   "version": "3.11.4"
  }
 },
 "nbformat": 4,
 "nbformat_minor": 5
}

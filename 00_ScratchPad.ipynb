{
 "cells": [
  {
   "cell_type": "markdown",
   "id": "99aa72e3-eac9-4469-84f0-d60654a87e54",
   "metadata": {},
   "source": [
    "# PHZ1140C Scratch Pad\n",
    "\n",
    "## Tips\n",
    "\n",
    "  * Use __esc r__ to disable a cell\n",
    "  * Use __esc y__ to reactivate it\n",
    "  * Use __esc m__ to go to markdown mode\n",
    "  * Shift + return to execute a cell\n",
    "\n",
    "Click [here](https://www.w3schools.com/python/default.asp) for an excellent Python online tutorial."
   ]
  },
  {
   "cell_type": "markdown",
   "id": "a04e6adc-8849-4431-9f29-1901d3a1b029",
   "metadata": {},
   "source": [
    "### Import Modules \n",
    "Make Python modules (that is, collections of programs) available to this notebook.\n"
   ]
  },
  {
   "cell_type": "code",
   "execution_count": 1,
   "id": "0352a958-c65a-4ace-bcd8-139417a3afbc",
   "metadata": {},
   "outputs": [],
   "source": [
    "import os, sys\n",
    "import numpy as np\n",
    "import matplotlib as mp\n",
    "import matplotlib.pyplot as plt\n",
    "import sympy as sm\n",
    "#import scipy as sp\n",
    "#import pandas as pd\n",
    "#import vpython as vp\n",
    "#import itertools as it\n",
    "\n",
    "sm.init_printing()        # activate \"pretty printing\" of symbolic expressions\n",
    "%matplotlib inline"
   ]
  },
  {
   "cell_type": "markdown",
   "id": "0bf90f47-5213-4686-8efb-2eadb1e17e56",
   "metadata": {},
   "source": [
    "### Setup fonts"
   ]
  },
  {
   "cell_type": "code",
   "execution_count": 2,
   "id": "46a8fbd2-2fcf-4d75-a7de-163501338afc",
   "metadata": {},
   "outputs": [],
   "source": [
    "# update fonts\n",
    "FONTSIZE = 14\n",
    "font = {'family' : 'sans-serif',\n",
    "        'weight' : 'normal',\n",
    "        'size'   : FONTSIZE}\n",
    "mp.rc('font', **font)\n",
    "\n",
    "# use latex if available on system, otherwise set usetex=False\n",
    "mp.rc('text', usetex=True)\n",
    "\n",
    "# set a seed to ensure reproducibility \n",
    "# on a given machine\n",
    "seed = 314159\n",
    "rnd  = np.random.RandomState(seed)"
   ]
  },
  {
   "cell_type": "markdown",
   "id": "7a458d9c-5d80-406d-a64d-07a41cd194be",
   "metadata": {},
   "source": [
    "### My first program\n",
    "\n",
    "  1. The most important rule in writing software (aka computer code) that you expect to come back to later, or give to someone else, is to make the computer code as easy to understand as possible. Often this can be achieved by following the rules of a coding style. However, if a rule conflicts with the desire for clarity, always choose the clarity! Rules are guidelines.\n",
    "\n",
    "  2. The next most important rule, which follows from the first is to avoid writing very long dense programs. But even this rule must be broken sometimes. However, when it is be sure to structure the long dense program into clearly identifiable blocks of code.\n",
    "\n",
    "  3. Python has two ways to structure software: __functions__ and __classes__. A function in Python is like a function, $\\color{blue}{y = f(x)}$, in mathematics. In both cases, a function can be thought of as a machine that takes as input a quantity $x$ and returns another quantity $y$. In principle, the input and output quantities can be of arbitrary complexity. In the future, for example, the function $f$ might be an AI system and $x$ a collection of time series of quantities measured with an *in situ* health monitor while $y$ is a long array of probabilities each corresponding to a different potential medical condition.\n",
    "However, unlike functions in mathematics, which always return a quantity, a function in Python (and many other computer languages) may not have a return value. Indeed, our first program below does not have a return value.\n"
   ]
  },
  {
   "cell_type": "markdown",
   "id": "c4ed80c3-5bff-4b2b-b9f6-ba0ef44c9e50",
   "metadata": {},
   "source": [
    "### My first program\n",
    "Functions start with the keyword __def__."
   ]
  },
  {
   "cell_type": "code",
   "execution_count": 3,
   "id": "eab32274-6e1f-4fdf-a1b5-4fb412cbb242",
   "metadata": {},
   "outputs": [],
   "source": [
    "# define the function\n",
    "def hello_world():\n",
    "    print('hello world!')"
   ]
  },
  {
   "cell_type": "code",
   "execution_count": 4,
   "id": "ff7906f7-8104-4c05-9952-6bf55b9969a6",
   "metadata": {},
   "outputs": [
    {
     "name": "stdout",
     "output_type": "stream",
     "text": [
      "hello world!\n"
     ]
    }
   ],
   "source": [
    "# execute (i.e., \"call\") the function\n",
    "hello_world()"
   ]
  },
  {
   "cell_type": "markdown",
   "id": "6c82fd00-aa4a-4fb0-ba5b-18f53ecddd10",
   "metadata": {},
   "source": [
    "### Something more interesting\n",
    "\n",
    "Let's write a Python function that plots a given 1-dimensional function, $y = f(x)$, where $x$ is a real number."
   ]
  },
  {
   "cell_type": "code",
   "execution_count": 5,
   "id": "44ba7c80-ceee-4245-a1d3-a8e06a165e22",
   "metadata": {},
   "outputs": [],
   "source": [
    "def plot_function(f, xmin, xmax, \n",
    "                  ymin=None, ymax=None,\n",
    "                  xbins=100, color='blue', filename='f.png', ftsize=14, fgsize=(5, 3)):\n",
    "    '''\n",
    " \n",
    "    Example\n",
    "\n",
    "    >>> f = np.sin\n",
    "    >>> plot_function(f, xmin, xmax, color='blue') \n",
    "    '''\n",
    "\n",
    "    # set size of figure\n",
    "    fig = plt.figure(figsize=fgsize)\n",
    "\n",
    "    # compute y = f(x) at equally-spaced values of x\n",
    "    # ------------------------------------------------\n",
    "    # Q1: What do you think is happening in the next three lines?\n",
    "    xstep = (xmax-xmin)/xbins\n",
    "    x = np.arange(xmin, xmax+xstep, xstep)\n",
    "    y = f(x)\n",
    "\n",
    "    # define domain\n",
    "    plt.xlim(xmin, xmax)\n",
    "    \n",
    "    # define range\n",
    "    if ymax == None:\n",
    "        ymax = y.max()\n",
    "        ymax *= 1.25  # Q2: What do you think is the function of the operator \"*=\" ?\n",
    "        \n",
    "    if ymin == None:\n",
    "        ymin = y.min()\n",
    "        # Q3: Why are we checking if y is negative?\n",
    "        if ymin < 0:\n",
    "            ymin *= 1.25\n",
    "        else:\n",
    "            ymin *= 0.75\n",
    "            \n",
    "    plt.ylim(ymin, ymax)\n",
    "        \n",
    "    # annotate axes\n",
    "    plt.xlabel('$x$', fontsize=ftsize)\n",
    "    plt.ylabel('$y$', fontsize=ftsize)\n",
    "\n",
    "    plt.plot(x, y, color=color, label='$y = f(x)$')\n",
    "    plt.grid()\n",
    "    \n",
    "    plt.legend(loc='upper right') # activate legend\n",
    "    \n",
    "    fig.tight_layout()\n",
    "    plt.savefig(filename)"
   ]
  },
  {
   "cell_type": "markdown",
   "id": "5498c9b6-b177-4c47-887e-b96ecce7bdeb",
   "metadata": {},
   "source": [
    "### The Python __help__ function"
   ]
  },
  {
   "cell_type": "code",
   "execution_count": 6,
   "id": "f2512cd7-736c-4612-b26f-64e84e227631",
   "metadata": {},
   "outputs": [
    {
     "name": "stdout",
     "output_type": "stream",
     "text": [
      "Help on function plot_function in module __main__:\n",
      "\n",
      "plot_function(f, xmin, xmax, ymin=None, ymax=None, xbins=100, color='blue', filename='f.png', ftsize=14, fgsize=(5, 3))\n",
      "    Example\n",
      "    \n",
      "    >>> f = np.sin\n",
      "    >>> plot_function(f, xmin, xmax, color='blue')\n",
      "\n"
     ]
    }
   ],
   "source": [
    "help(plot_function)"
   ]
  },
  {
   "cell_type": "code",
   "execution_count": 7,
   "id": "1a2099ef-8152-47cc-af10-6c5be34e2bac",
   "metadata": {},
   "outputs": [
    {
     "data": {
      "image/png": "[encoded data removed]",
      "text/plain": [
       "<Figure size 500x300 with 1 Axes>"
      ]
     },
     "metadata": {},
     "output_type": "display_data"
    }
   ],
   "source": [
    "plot_function(np.sin, xmin=0, xmax=2*np.pi)"
   ]
  },
  {
   "cell_type": "markdown",
   "id": "de32d608-2659-4dbd-82f0-0ad1a7348070",
   "metadata": {},
   "source": [
    "### Lambda functions\n",
    "\n",
    "Format:\n",
    "```python\n",
    "g = lambda x: some functional form\n",
    "```"
   ]
  },
  {
   "cell_type": "code",
   "execution_count": 8,
   "id": "0c30d776-6d89-41f8-a743-71ba1bddcff0",
   "metadata": {},
   "outputs": [
    {
     "data": {
      "image/png": "[encoded data removed]",
      "text/plain": [
       "<Figure size 500x300 with 1 Axes>"
      ]
     },
     "metadata": {},
     "output_type": "display_data"
    }
   ],
   "source": [
    "g = lambda x: np.exp(-x/4)*np.sin(x)**2\n",
    "plot_function(g, xmin=0, xmax=25, xbins=250)"
   ]
  },
  {
   "cell_type": "markdown",
   "id": "3d129554-db47-49f1-95f4-75296ab15ec3",
   "metadata": {},
   "source": [
    "### Using __sympy__"
   ]
  },
  {
   "cell_type": "code",
   "execution_count": 9,
   "id": "5c913344-9b0b-4b9d-88a0-9547c6bd2937",
   "metadata": {},
   "outputs": [
    {
     "data": {
      "image/png": "[encoded data removed]",
      "text/latex": [
       "$\\displaystyle e^{- \\frac{x}{4}} \\sin^{2}{\\left(x \\right)}$"
      ],
      "text/plain": [
       " -x         \n",
       " ───        \n",
       "  4     2   \n",
       "ℯ   ⋅sin (x)"
      ]
     },
     "execution_count": 9,
     "metadata": {},
     "output_type": "execute_result"
    }
   ],
   "source": [
    "x = sm.symbols('x', real=True)\n",
    "\n",
    "# create a function\n",
    "h = sm.exp(-x/4)*sm.sin(x)**2\n",
    "\n",
    "# display it with pretty printer\n",
    "h"
   ]
  },
  {
   "cell_type": "code",
   "execution_count": 10,
   "id": "ee66b460-8a13-4d5c-a0e5-79235ef8d6bd",
   "metadata": {
    "scrolled": true
   },
   "outputs": [
    {
     "data": {
      "image/png": "[encoded data removed]",
      "text/plain": [
       "<Figure size 500x300 with 1 Axes>"
      ]
     },
     "metadata": {},
     "output_type": "display_data"
    }
   ],
   "source": [
    "q = lambda z: h.evalf(subs={x:z})\n",
    "plot_function(g, xmin=0, xmax=25, xbins=250)"
   ]
  },
  {
   "cell_type": "markdown",
   "id": "6be91c24-1526-4651-b97e-cd1e270eecde",
   "metadata": {},
   "source": [
    "### Numbers, numbers, numbers!"
   ]
  },
  {
   "cell_type": "code",
   "execution_count": 11,
   "id": "772f4822-9c00-4c4a-84b1-8edc0552164c",
   "metadata": {},
   "outputs": [
    {
     "data": {
      "image/png": "[encoded data removed]",
      "text/latex": [
       "$\\displaystyle \\left( 2.2250738585072 \\cdot 10^{-308}, \\  1.79769313486232 \\cdot 10^{308}, \\  9223372036854775807\\right)$"
      ],
      "text/plain": [
       "(2.2250738585072014e-308, 1.7976931348623157e+308, 9223372036854775807)"
      ]
     },
     "execution_count": 11,
     "metadata": {},
     "output_type": "execute_result"
    }
   ],
   "source": [
    "# smallest and largest floating point numbers and largest integer in Python\n",
    "sys.float_info.min, sys.float_info.max, sys.maxsize"
   ]
  },
  {
   "cell_type": "markdown",
   "id": "af1afe81-1d31-40c9-8a7a-219ea3ebef95",
   "metadata": {},
   "source": [
    "### $1000!$"
   ]
  },
  {
   "cell_type": "code",
   "execution_count": 12,
   "id": "0fd9d614-7690-47a3-b622-9cc4caa694f8",
   "metadata": {},
   "outputs": [
    {
     "data": {
      "text/plain": [
       "(2568,\n",
       " '402387260077093773543702433923003985719374864210714632543799910429938512398629020592044208486969404800479988610197196058631666872994808558901323829669944590997424504087073759918823627727188732519779505950995276120874975462497043601418278094646496291056393887437886487337119181045825783647849977012476632889835955735432513185323958463075557409114262417474349347553428646576611667797396668820291207379143853719588249808126867838374559731746136085379534524221586593201928090878297308431392844403281231558611036976801357304216168747609675871348312025478589320767169132448426236131412508780208000261683151027341827977704784635868170164365024153691398281264810213092761244896359928705114964975419909342221566832572080821333186116811553615836546984046708975602900950537616475847728421889679646244945160765353408198901385442487984959953319101723355556602139450399736280750137837615307127761926849034352625200015888535147331611702103968175921510907788019393178114194545257223865541461062892187960223838971476088506276862967146674697562911234082439208160153780889893964518263243671616762179168909779911903754031274622289988005195444414282012187361745992642956581746628302955570299024324153181617210465832036786906117260158783520751516284225540265170483304226143974286933061690897968482590125458327168226458066526769958652682272807075781391858178889652208164348344825993266043367660176999612831860788386150279465955131156552036093988180612138558600301435694527224206344631797460594682573103790084024432438465657245014402821885252470935190620929023136493273497565513958720559654228749774011413346962715422845862377387538230483865688976461927383814900140767310446640259899490222221765904339901886018566526485061799702356193897017860040811889729918311021171229845901641921068884387121855646124960798722908519296819372388642614839657382291123125024186649353143970137428531926649875337218940694281434118520158014123344828015051399694290153483077644569099073152433278288269864602789864321139083506217095002597389863554277196742822248757586765752344220207573630569498825087968928162753848863396909959826280956121450994871701244516461260379029309120889086942028510640182154399457156805941872748998094254742173582401063677404595741785160829230135358081840096996372524230560855903700624271243416909004153690105933983835777939410970027753472000000000000000000000000000000000000000000000000000000000000000000000000000000000000000000000000000000000000000000000000000000000000000000000000000000000000000000000000000000000000000000000000000000000000000000000000000000000000000000000000000000000')"
      ]
     },
     "execution_count": 12,
     "metadata": {},
     "output_type": "execute_result"
    }
   ],
   "source": [
    "import math\n",
    "N = 1000\n",
    "\n",
    "s = f'{math.factorial(N):d}'\n",
    "\n",
    "len(s), s"
   ]
  },
  {
   "cell_type": "markdown",
   "id": "ce2edd39-0dc7-4b5e-badb-9b2ad10b2b11",
   "metadata": {},
   "source": [
    "### Beware of machine precision and truncation\n",
    "\n",
    "This example is taken from the description of the __evalf(...)__ function in sympy.\n",
    "\n",
    "We want to compute $g = 10^{16} + 1 -  10^{16}$. The correct answer of course is 1. However, if the precision of the calculation (that is, the number of significant figures) is insufficient, the $10^{16} + 1$ will be evaluated as $10^{16}$ and this will yield the answer 0! But __sympy__ has a more precise way to evaluate functions. See the example in the cell below."
   ]
  },
  {
   "cell_type": "code",
   "execution_count": 13,
   "id": "2d7411e0-1695-4fcf-ae94-d388648e86db",
   "metadata": {},
   "outputs": [
    {
     "name": "stdout",
     "output_type": "stream",
     "text": [
      "g1: 0.000000\tg2: 1.000000\n"
     ]
    }
   ],
   "source": [
    "x, y, z = sm.symbols('x, y, z')\n",
    "\n",
    "# Q4: What is the largest power of ten that avoids truncation, that is, what value of \"k\" gives 10**k + 1 - 10**k = 1?\n",
    "value  = 1e16\n",
    "values = {x: value, y: 1, z: value}\n",
    "\n",
    "g = x + y - z\n",
    "\n",
    "# evaluate the expression numerically\n",
    "g1 = float(g.subs(values))\n",
    "\n",
    "# Use evalf to evaluate the function g(x, y, z) with greater precision\n",
    "g2 = float(g.evalf(subs=values))\n",
    "\n",
    "print(f'g1: {g1:f}\\tg2: {g2:f}')"
   ]
  },
  {
   "cell_type": "code",
   "execution_count": null,
   "id": "50a9992b-2378-4ef9-bc8b-0200277de518",
   "metadata": {},
   "outputs": [],
   "source": []
  }
 ],
 "metadata": {
  "kernelspec": {
   "display_name": "Python 3 (ipykernel)",
   "language": "python",
   "name": "python3"
  },
  "language_info": {
   "codemirror_mode": {
    "name": "ipython",
    "version": 3
   },
   "file_extension": ".py",
   "mimetype": "text/x-python",
   "name": "python",
   "nbconvert_exporter": "python",
   "pygments_lexer": "ipython3",
   "version": "3.11.4"
  }
 },
 "nbformat": 4,
 "nbformat_minor": 5
}

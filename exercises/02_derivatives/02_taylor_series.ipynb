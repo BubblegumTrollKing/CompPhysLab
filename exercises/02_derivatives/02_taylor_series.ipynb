{
 "cells": [
  {
   "cell_type": "markdown",
   "id": "99aa72e3-eac9-4469-84f0-d60654a87e54",
   "metadata": {
    "tags": []
   },
   "source": [
    "# Taylor Series\n",
    "\n",
    "## Tips\n",
    "\n",
    "  * Use __esc r__ to disable a cell\n",
    "  * Use __esc y__ to reactivate it\n",
    "  * Use __esc m__ to go to markdown mode\n",
    "  * Shift + return to execute a cell\n",
    "\n",
    "## Goal\n",
    "\n",
    "The purpose of this notebook is to help you understand the concept of a __Taylor series__ expansion of a function. Both the derivative (see 01_derivatives.ipynb) and Taylor series are needed to derive a formula to approximate solutions of Newton's second law of motion. \n",
    "\n",
    "\n",
    "## Derivative: recap\n",
    "\n",
    "The derivative of a function $f(x)$ at $x$ is the following ratio\n",
    "\n",
    "\\begin{align}\n",
    "    \\frac{df}{dx} = \\frac{f(x+h) - f(x)}{h},\n",
    "\\end{align}\n",
    "\n",
    "where $h$ is an __infinitely small number__. It is important to note that this is an exact formula. But when $h$ is a finite number, the formula is no longer exact. Note also, that we can rewrite the exact formula as\n",
    "\n",
    "\\begin{align}\n",
    "    f(x + h) & = f(x) + f^{(1)}(x) \\, h ,\n",
    "\\end{align}\n",
    "\n",
    "where $f^{(1)}(x) \\equiv df/dx$. This is a very interesting formula because it shows how, given the function $f(x)$ and its derivative $f^{(1)}(x)$ at $x$, we can compute the function at $x + h$. This is exactly the kind of algorithm we want to solve Newton's second law in a step by step way. In practice, of course, we must use a small value for $h$. This method of solving an ordinary differential equation of the form\n",
    "\n",
    "$$\\frac{df}{dx} = g(x, f),$$\n",
    "\n",
    "where $g$ is a known function of $x$ and $f$, is called __Euler's method__. It is the simplest numerical method for solving such equations, but, unfortunately, it is not a particularly accurate method because $h$ is, after all, not infinitely small.\n",
    "\n",
    "## Taylor series\n",
    "\n",
    "When $h$ is not infinitely small, the formula\n",
    "\n",
    "\\begin{align}\n",
    "    f(x + h) & = f(x) + f^{(1)}(x) \\, h ,\n",
    "\\end{align}\n",
    "\n",
    "is no longer exact. Moreover, the larger the value of $h$, the worse the approximation. Inspired by this formula, let's consider the following\n",
    "\n",
    "\\begin{align}\n",
    "    f(x + h) & = f(x) + f^{(1)} \\, h  + a_2 \\, h^2 + a_3 \\, h^3 + {\\cal O}(h^4),\n",
    "\\end{align}\n",
    "\n",
    "where the symbol ${\\cal O}(h^4)$ means \"of order $h^4$\". This represents all terms of power 4 in $h$ or higher. This formula (which, in general, has an infinite number of terms) is one way to write the __Taylor series__ of $f(x+h)$ around the point $x$. For our purposes, we do not need the terms beyond ${\\cal O}(h^3)$. During my office hours, I'm happy to show you that\n",
    "\n",
    "\\begin{align}\n",
    "    a_2 & = \\frac{f^{(2)}(x)}{2!},\\\\\n",
    "    a_3 & = \\frac{f^{(3)}(x)}{3!} ,\n",
    "\\end{align}\n",
    "\n",
    "But I invite you to prove this yourself. (*Hint*: consider $x$ fixed, and treat $h$ as a variable. Take the derivative of both sides, twice, with respect to $h$ and also three times. Then, in both expressions, set $h = 0$. What is the derivative of a constant?)\n",
    "\n",
    "## Taylor series for vectors\n",
    "\n",
    "Since the Taylor series applies to any continuous function, it also applies to vectors. In particular, given the position and velocity vectors $\\vec{r}(t)$ and $\\vec{v}(t)$, respectively, we can compute them at time $t + h$ using the formulas\n",
    "\n",
    "\\begin{align}\n",
    "    \\vec{r}(t + h) & = \\vec{r}(t) + \\vec{r}^{(1)}(t) \\, h  + \\frac{1}{2} \\vec{r}^{(2)}(t)  \\, h^2 + \\frac{1}{6} \\vec{r}^{(3)}(t)  \\, h^3 + {\\cal O}(h^4),\\\\\n",
    "    \\vec{v}(t + h) & = \\vec{v}(t) + \\vec{v}^{(1)}(t) \\, h  + \\frac{1}{2} \\vec{v}^{(2)}(t)  \\, h^2 + \\frac{1}{6} \\vec{v}^{(3)}(t)  \\, h^3 + {\\cal O}(h^4) .\n",
    "\\end{align}\n",
    "\n",
    "The right hand side contains quantities known at time $t$, while the left hand side at the predictions of what the vectors will be at time $t + h$.\n",
    "\n",
    "## Newton's second law\n",
    "Recall that Newton's second law of motion for a particle, $\\vec{F} = m \\vec{a}$, where, by definition, the acceleration is\n",
    "\n",
    "$$\\vec{a} = \\frac{d\\vec{v}}{dt},$$\n",
    "\n",
    "$m$ is the mass of the particle, and $\\vec{F}$ is the sum of all forces acting on it, can be written as two first order differential equations,\n",
    "\n",
    "\\begin{align}\n",
    "    \\frac{d\\vec{r}}{dt} & = \\vec{v}, \\\\\n",
    "    \\frac{d\\vec{v}}{dt} & = \\frac{1}{m} \\vec{F} .\n",
    "\\end{align}\n",
    "\n",
    "When we substitute the second law into the two Taylor series above, we obtain\n",
    "\n",
    "\\begin{align}\n",
    "    \\vec{r}(t + h) & = \\color{blue}{\\vec{r}(t) + \\vec{v}(t) \\, h  + \\frac{1}{2} \\frac{\\vec{F}(t)}{m}  \\, h^2} + \\frac{1}{6} \\frac{\\vec{F}^{(1)}(t)}{m}   \\, h^3 + {\\cal O}(h^4),\\\\\n",
    "    \\vec{v}(t + h) & = \\color{blue}{\\vec{v}(t) + \\frac{\\vec{F}(t)}{m}  \\, h}  + \\frac{1}{2} \\frac{\\vec{F}^{(1)}(t)}{m}   \\, h^2 + \\frac{1}{6} \\frac{\\vec{F}^{(2)}(t)}{m}   \\, h^3 + {\\cal O}(h^4) .\n",
    "\\end{align}\n",
    "\n",
    "The first three terms of the formula for $\\vec{r}(t + h)$ are known, as are the first two terms of $\\vec{v}(t + h)$. Therefore, if the ${\\cal O}(h^3)$ terms in $\\vec{r}(t + h)$ and the ${\\cal O}(h^2)$ term in $\\vec{v}(t + h)$ are considered to be small enough by virtue of choosing a small time increment $h$, we have approximate formulae for solving Newton's second law of motion for a particle.\n",
    "\n",
    "### More accurate formulae\n",
    "If we can find a reasonable approximation for $\\vec{F}^{(1)}(t) \\equiv d\\vec{F} / dt$, we can construct more accurate formulae where $\\vec{r}(t + h)$ will be accurate to ${\\cal O}(h^4)$ and $\\vec{v}(t + h)$ accurate to ${\\cal O}(h^3)$. \n",
    "\n",
    "An obvious first attempt is to write\n",
    "\n",
    "$$\\vec{F}^{(1)}(t) \\equiv \\frac{d\\vec{F}(t)}{dt} \\approx \\frac{\\vec{F}(t+h) - \\vec{F}(t)}{h}.$$\n",
    "\n",
    "Unfortunately, this requires knowing the total force at time step $t + h$, which we don't know! But, apart from the starting time at $t = 0$, at the time $t > 0$ we do have knowledge of the sum of the forces on each particle at the *previous* timestamp, namely, at time $t - h$. So let's switch the sign of $h$ and write a Taylor series for $\\vec{F}(t-h)$ that is accurate to ${\\cal O}(h)$.  \n",
    "\n",
    "\\begin{align}\n",
    "    \\vec{F}(t - h) & = \\vec{F}(t) - \\vec{F}^{(1)}(t) \\, h + {\\cal O}(h^2),\n",
    "\\end{align}\n",
    "\n",
    "which can be rewritten as\n",
    "\n",
    "\\begin{align}\n",
    "    \\vec{F}^{(1)}(t) & = \\frac{1}{h}[\\vec{F}(t) - \\vec{F}(t - h)] + {\\cal O}(h^2) / h, \\nonumber\\\\\n",
    "    & = \\frac{1}{h}[\\vec{F}(t) - \\vec{F}(t - h)] + {\\cal O}(h),\n",
    "\\end{align}\n",
    "\n",
    "where we have used the result ${\\cal O}(h) = {\\cal O}(h^2) / h$.\n",
    "\n",
    "Obviously, this is not a very accurate formula for the rate at which the force is changing, but it turns out to be good enough. To see this, let's substitute our approximate formula for $\\vec{F}^{(1)}(t)$ into the Taylor series for $\\vec{r}(t + h)$,\n",
    "\n",
    "\\begin{align}\n",
    "    \\vec{r}(t + h) & = \\color{blue}{\\vec{r}(t) + \\vec{v}(t) \\, h  + \\frac{1}{2} \\frac{\\vec{F}(t)}{m}  \\, h^2} + \\frac{1}{6} \\left( \\frac{[\\vec{F}(t) - \\vec{F}(t - h)]/h + {\\cal O}(h)}{m}   \\right) \\, h^3 + {\\cal O}(h^4),\\nonumber\\\\\n",
    "    & = \\color{blue}{\\vec{r}(t) + \\vec{v}(t) \\, h  + \\frac{1}{2} \\frac{\\vec{F}(t)}{m}  \\, h^2} + \\frac{1}{6} \\left( \\frac{\\vec{F}(t) - \\vec{F}(t - h) }{m}\\right) \\, h^2 + {\\cal O}(h) h^3 + {\\cal O}(h^4),\\nonumber\\\\\n",
    "& = \\color{blue}{\\vec{r}(t) + \\vec{v}(t) \\, h  + \\frac{1}{2} \\frac{\\vec{F}(t)}{m}  \\, h^2} + \\frac{1}{6} \\left( \\frac{\\vec{F}(t) - \\vec{F}(t - h) }{m}\\right) \\, h^2 + {\\cal O}(h^4),\n",
    "\\end{align}\n",
    "\n",
    "where we have used ${\\cal O}(h^4) = {\\cal O}(h) h^3$. We see that even though our formula for $d\\vec{F}(t) / dt$ is not very accurate, we still end up with a formula for $\\vec{r}(t+h)$ that is accurate to ${\\cal O}(h^4$! In a similar manner we arrive at\n",
    "\n",
    "\\begin{align}\n",
    "    \\vec{v}(t + h) & = \\color{blue}{\\vec{v}(t) + \\frac{\\vec{F}(t)}{m}  \\, h}  + \\frac{1}{2} \\left( \\frac{\\vec{F}(t) - \\vec{F}(t - h) }{m}\\right)   \\, h^2 + {\\cal O}(h^3) ,\n",
    "\\end{align}\n",
    "\n",
    "a formula for the particle velocity at timestamp $t + h$ that is accurate to ${\\cal O}(h^3)$.\n",
    "\n",
    "At $t = 0$, in general, we don't know the force at time $t = -h$. So a possible simulation strategy is to use the less accurate formulae for timestamp $t = +h$ and thereafter use the more accurate ones."
   ]
  },
  {
   "cell_type": "markdown",
   "id": "a04e6adc-8849-4431-9f29-1901d3a1b029",
   "metadata": {},
   "source": [
    "### Import modules \n",
    "Make Python modules (that is, collections of programs) available to this notebook.\n"
   ]
  },
  {
   "cell_type": "code",
   "execution_count": 1,
   "id": "0352a958-c65a-4ace-bcd8-139417a3afbc",
   "metadata": {},
   "outputs": [
    {
     "data": {
      "text/html": [
       "<div id=\"glowscript\" class=\"glowscript\"></div>"
      ],
      "text/plain": [
       "<IPython.core.display.HTML object>"
      ]
     },
     "metadata": {},
     "output_type": "display_data"
    },
    {
     "data": {
      "application/javascript": [
       "if (typeof Jupyter !== \"undefined\") { window.__context = { glowscript_container: $(\"#glowscript\").removeAttr(\"id\")};}else{ element.textContent = ' ';}"
      ],
      "text/plain": [
       "<IPython.core.display.Javascript object>"
      ]
     },
     "metadata": {},
     "output_type": "display_data"
    }
   ],
   "source": [
    "import os, sys\n",
    "import numpy as np\n",
    "import matplotlib as mp\n",
    "import matplotlib.pyplot as plt\n",
    "import sympy as sm\n",
    "import scipy as sp\n",
    "#import pandas as pd\n",
    "import vpython as vp\n",
    "#import itertools as it\n",
    "\n",
    "from time import sleep\n",
    "\n",
    "sm.init_printing()        # activate \"pretty printing\" of symbolic expressions\n",
    "%matplotlib inline\n",
    "\n",
    "# update fonts\n",
    "FONTSIZE = 14\n",
    "font = {'family' : 'sans-serif',\n",
    "        'weight' : 'normal',\n",
    "        'size'   : FONTSIZE}\n",
    "mp.rc('font', **font)\n",
    "\n",
    "# use latex if available on system, otherwise set usetex=False\n",
    "mp.rc('text', usetex=True)\n",
    "\n",
    "# use JavaScript for rendering animations\n",
    "mp.rc('animation', html='jshtml')\n",
    "\n",
    "# set a seed to ensure reproducibility \n",
    "# on a given machine\n",
    "seed = 314159\n",
    "rnd  = np.random.RandomState(seed)"
   ]
  },
  {
   "cell_type": "markdown",
   "id": "b3bb77e5-08e9-4fa2-9bbe-c2c3863c2ec3",
   "metadata": {},
   "source": [
    "## Exercise 3: Simulating a bouncing ball \n",
    "\n",
    "In this exercise, which we'll work through together, we are going to compute the trajectory of a ball that moves under the action of a constant gravitational force and that bounces off the ground. We'll visualize the simulation using the 3D graphics module __vpython__. Our approach is not necessarily the best in terms of computer science, but it has the virtue of being relatively simple. Later, as you become better in using Python, we'll improve the approach. \n",
    "\n",
    "We'll put the constants needed for this exercise into a \"bag\".\n",
    "\n",
    "### Constants"
   ]
  },
  {
   "cell_type": "code",
   "execution_count": 2,
   "id": "33220f94-e941-48b0-8ab7-b8348c7f9a62",
   "metadata": {
    "tags": []
   },
   "outputs": [],
   "source": [
    "TRAIL       = True       # add a trail to ball\n",
    "TRAIL_COUNT = 100        # maximum trail length\n",
    "\n",
    "# colors, need to use vpython's vector class for this\n",
    "SKYBLUE   = vp.vector(0.62,0.57,0.98)\n",
    "LAWNGREEN = vp.vector(0.5,0.9,0.5)\n",
    "GRAY      = vp.vector(0.70,0.70, 0.70)\n",
    "\n",
    "WIDTH  = 400 # in pixels\n",
    "HEIGHT = 400 # in pixels\n",
    "\n",
    "ORIGIN = vp.vector(0,0,0)\n",
    "I      = vp.vector(1,0,0)\n",
    "J      = vp.vector(0,1,0) \n",
    "K      = vp.vector(0,0,1)\n",
    "CAMERA = vp.vector(-1, -0.5, -0.8) # direction in which camera points\n",
    "\n",
    "# simulation constants\n",
    "HW = 10 # half width of \"ground\"\n",
    "SW = HW/100 # shaftwidth of coordinate arrows\n",
    "M  = 0.25               # mass of ball (Kg)\n",
    "MU = 0.0                # friction constant\n",
    "g  = 9.81               # acceleration due to gravity (m/s^2) at Earth's surface\n",
    "H  = 0.1                # time step (seconds)"
   ]
  },
  {
   "cell_type": "code",
   "execution_count": 3,
   "id": "c121e7f4-119a-48ea-9349-9a65f8f81be7",
   "metadata": {
    "tags": []
   },
   "outputs": [],
   "source": [
    "class Bag:\n",
    "    pass\n",
    "\n",
    "bag    = Bag()\n",
    "bag.h  = H  # time step (seconds)\n",
    "bag.hh = H**2\n",
    "\n",
    "bag.g  = vp.vector(0, -9, 0) # acceleration due to gravity near the Earth's surface\n",
    "bag.mu = MU # friction constant\n",
    "bag.m  = M  # Kg, mass of ball"
   ]
  },
  {
   "cell_type": "markdown",
   "id": "d30e524c-5fc8-4b9f-b22f-8cbfb7915561",
   "metadata": {},
   "source": [
    "## Step 1: Propagator\n",
    "We start by writing a function that takes the current position $\\vec{r}(t)$ and velocity $\\vec{v}(t)$ of the (center of the) ball, which is treated as a particle, the sum of the forces acting on it (often referred to as the __net force__), $\\vec{F}(t)$, and returns the updated position and velocity at timestamp $t + h$ of the particle. For now, to keep things simple, we'll use the less accurate formulae for $\\vec{r}(t + h)$ and $\\vec{v}(t + h)$, \n",
    "\\begin{align}\n",
    "    \\vec{r}(t + h) & = \\vec{r}(t) + \\vec{v}(t) \\, h  + \\frac{1}{2} \\frac{\\vec{F}(t)}{m}  \\, h^2 + {\\cal O}(h^3),\\\\\n",
    "    \\vec{v}(t + h) & = \\vec{v}(t) + \\frac{\\vec{F}(t)}{m}  \\, h  + {\\cal O}(h^2) .\n",
    "\\end{align}"
   ]
  },
  {
   "cell_type": "code",
   "execution_count": 4,
   "id": "d68100a8-9284-46de-845b-7de7b167f5c0",
   "metadata": {
    "tags": []
   },
   "outputs": [],
   "source": [
    "def propagate(r, v, F):\n",
    "    global bag\n",
    "    \n",
    "    h, hh, m = bag.h, bag.hh, bag.m\n",
    "    \n",
    "    Fm   = F/m\n",
    "    rnew = r + v*h + Fm*hh/2\n",
    "    vnew = v + Fm*h\n",
    "    \n",
    "    return rnew, vnew"
   ]
  },
  {
   "cell_type": "markdown",
   "id": "7edf7c95-c90c-4c7f-957c-0f7c8525e457",
   "metadata": {},
   "source": [
    "## Step 2: Force\n",
    "\n",
    "The function below returns the total force on the particle. We consider two forces, the force of gravity,\n",
    "\n",
    "\\begin{align}\n",
    "    \\vec{F}_g(t) & = m \\vec{g} .\n",
    "\\end{align}\n",
    "\n",
    "and a simple friction force,\n",
    "\n",
    "\\begin{align}\n",
    "    \\vec{F}_{\\mu}(t) & = - \\mu  \\vec{v} ,\n",
    "\\end{align}\n",
    "\n",
    "where $w$ is a constant."
   ]
  },
  {
   "cell_type": "code",
   "execution_count": 5,
   "id": "8bbb7922-5eb0-404b-a8c1-0f24eec67dc2",
   "metadata": {
    "tags": []
   },
   "outputs": [],
   "source": [
    "def force(v):\n",
    "    global bag\n",
    "    \n",
    "    g  = bag.g\n",
    "    mu = bag.mu\n",
    "    m  = bag.m\n",
    "    \n",
    "    F  = m * g - mu * v\n",
    "    return F"
   ]
  },
  {
   "cell_type": "markdown",
   "id": "111f15e6-3a0e-4477-b6fe-5d3bb232119c",
   "metadata": {},
   "source": [
    "## Step 3: Build Scene"
   ]
  },
  {
   "cell_type": "code",
   "execution_count": 6,
   "id": "9f12d450-77af-459e-b234-993520160a07",
   "metadata": {
    "tags": []
   },
   "outputs": [],
   "source": [
    "def build_axes(w):\n",
    "    sw = w/100\n",
    "    aw = 1.1*w\n",
    "    \n",
    "    # draw ground\n",
    "    a = vp.vertex( pos= w*I+w*K, color=LAWNGREEN)\n",
    "    b = vp.vertex( pos= w*I-w*K, color=LAWNGREEN)\n",
    "    c = vp.vertex( pos=-w*I-w*K, color=vp.color.red)\n",
    "    d = vp.vertex( pos=-w*I+w*K, color=LAWNGREEN)\n",
    "    xzplane = vp.quad(vs=[a, b, c, d])\n",
    "    \n",
    "    # draw Cartesian axes \n",
    "    xaxis = vp.arrow(pos=ORIGIN, axis=w*I, shaftwidth=sw, color=GRAY)\n",
    "    xlabel= vp.label(pos=aw*I, text='x', box=False) \n",
    "    \n",
    "    yaxis = vp.arrow(pos=ORIGIN, axis=w*J, shaftwidth=sw, color=GRAY)\n",
    "    ylabel= vp.label(pos=aw*J, text='y', box=False) \n",
    "    \n",
    "    zaxis = vp.arrow(pos=ORIGIN, axis=w*K, shaftwidth=sw, color=GRAY)\n",
    "    zlabel= vp.label(pos=aw*K, text='z', box=False) \n",
    "    \n",
    "    return xzplane, xaxis, yaxis, zaxis, xlabel, ylabel, zlabel\n",
    "\n",
    "def build_scene(bag):\n",
    "    \n",
    "    xyz = build_axes(HW)\n",
    "    \n",
    "    # draw ball\n",
    "    r_ball = 0.4\n",
    "    p_ball = bag.r\n",
    "    v_ball = bag.v\n",
    "    r_trail= SW/2\n",
    "    \n",
    "    ball = vp.sphere(color=vp.color.red,\n",
    "                     radius=r_ball,\n",
    "                     pos=p_ball,\n",
    "                     make_trail=TRAIL,\n",
    "                     trail_radius=r_trail,\n",
    "                     retain=TRAIL_COUNT)\n",
    "    \n",
    "    # draw a wall\n",
    "    wall01 = vp.box(pos=vp.vector(-9, 5, 0),\n",
    "                    up=J,        # direction of height of box\n",
    "                    axis=-I,     # direction of length of box\n",
    "                    length=0.2,\n",
    "                    height=10,\n",
    "                    width=20,\n",
    "                    color=LAWNGREEN,\n",
    "                    opacity=0.1)\n",
    "    \n",
    "    # cache objects in bag to prevent them from getting deleted\n",
    "    # and to make them accessible to the update function\n",
    "    bag.ball  = ball\n",
    "    bag.xyz   = xyz\n",
    "    bag.wall01= wall01"
   ]
  },
  {
   "cell_type": "markdown",
   "id": "84800138-6889-4eff-b605-ef24a6fa2645",
   "metadata": {},
   "source": [
    "## Step 4: Scene Update Function\n",
    "\n",
    "  1. The __update__ function updates the scene, for example, the position of the ball.\n",
    "  1. The __launch__ function launches the application for a certain number of frames."
   ]
  },
  {
   "cell_type": "code",
   "execution_count": 7,
   "id": "8dfac601-bc81-4129-bd1a-97eb6909f83c",
   "metadata": {
    "tags": []
   },
   "outputs": [],
   "source": [
    "def update(bag):\n",
    "    \n",
    "    r = bag.r\n",
    "    v = bag.v\n",
    "    F = force(v)\n",
    "    \n",
    "    bag.r, bag.v = propagate(r, v, F)\n",
    "    \n",
    "    # update position of ball\n",
    "    bag.ball.pos = bag.r\n",
    "    \n",
    "def launch(bag, nframes=100):\n",
    "    sleep(2)\n",
    "    frame = 0\n",
    "    while frame < nframes:\n",
    "        update(bag)\n",
    "        vp.rate(10)\n",
    "        frame += 1    \n",
    "    print('\\nstopped')"
   ]
  },
  {
   "cell_type": "markdown",
   "id": "f725ddb2-89b3-468c-9a4f-0bd051f7ae2d",
   "metadata": {},
   "source": [
    "## Step 5: Create Canvas and Launch Display"
   ]
  },
  {
   "cell_type": "code",
   "execution_count": 9,
   "id": "857a42c5-173f-4881-a479-da530bec9601",
   "metadata": {
    "tags": []
   },
   "outputs": [
    {
     "data": {
      "text/html": [
       "<div id=\"glowscript\" class=\"glowscript\"></div>"
      ],
      "text/plain": [
       "<IPython.core.display.HTML object>"
      ]
     },
     "metadata": {},
     "output_type": "display_data"
    },
    {
     "data": {
      "application/javascript": [
       "if (typeof Jupyter !== \"undefined\") { window.__context = { glowscript_container: $(\"#glowscript\").removeAttr(\"id\")};}else{ element.textContent = ' ';}"
      ],
      "text/plain": [
       "<IPython.core.display.Javascript object>"
      ]
     },
     "metadata": {},
     "output_type": "display_data"
    },
    {
     "name": "stdout",
     "output_type": "stream",
     "text": [
      "\n",
      "stopped\n"
     ]
    }
   ],
   "source": [
    "scene = vp.canvas()\n",
    "#scene.title = 'Bouncing Ball'\n",
    "scene.caption= 'A non-bouncing ball'\n",
    "\n",
    "scene.width = WIDTH\n",
    "scene.height= HEIGHT\n",
    "scene.background=SKYBLUE\n",
    "scene.userzoom  = False   # user can't zoom\n",
    "scene.range  = 15 # window is +/-15 units wide in world coordinates\n",
    "scene.up     = J       # direction of vertical\n",
    "scene.forward= CAMERA  # direction in which camera looks\n",
    "\n",
    "\n",
    "R0 = ORIGIN # initial position of ball\n",
    "V0 = vp.vector(4, 10,  0) # initial velocity of ball\n",
    "\n",
    "bag.r = R0 # initial position of ball\n",
    "bag.v = V0 # initial velocity of ball\n",
    "\n",
    "build_scene(bag)\n",
    "\n",
    "#scene.capture('scene')\n",
    "launch(bag, nframes=30)"
   ]
  },
  {
   "cell_type": "code",
   "execution_count": null,
   "id": "052ff9aa-e63a-47ed-b946-715bac1fa832",
   "metadata": {
    "tags": []
   },
   "outputs": [],
   "source": []
  },
  {
   "cell_type": "code",
   "execution_count": null,
   "id": "e457786c-fdc0-44e1-bedc-443ba344686e",
   "metadata": {
    "tags": []
   },
   "outputs": [],
   "source": []
  },
  {
   "cell_type": "code",
   "execution_count": null,
   "id": "ca1f6c26-d639-4ee7-a291-f9e935e60a3f",
   "metadata": {},
   "outputs": [],
   "source": []
  }
 ],
 "metadata": {
  "kernelspec": {
   "display_name": "Python 3 (ipykernel)",
   "language": "python",
   "name": "python3"
  },
  "language_info": {
   "codemirror_mode": {
    "name": "ipython",
    "version": 3
   },
   "file_extension": ".py",
   "mimetype": "text/x-python",
   "name": "python",
   "nbconvert_exporter": "python",
   "pygments_lexer": "ipython3",
   "version": "3.11.5"
  },
  "toc-autonumbering": false,
  "toc-showcode": false
 },
 "nbformat": 4,
 "nbformat_minor": 5
}

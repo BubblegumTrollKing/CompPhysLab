{
 "cells": [
  {
   "attachments": {},
   "cell_type": "markdown",
   "id": "99aa72e3-eac9-4469-84f0-d60654a87e54",
   "metadata": {},
   "source": [
    "# Derivatives\n",
    "\n",
    "## Tips\n",
    "\n",
    "  * Use __esc r__ to disable a cell\n",
    "  * Use __esc y__ to reactivate it\n",
    "  * Use __esc m__ to go to markdown mode\n",
    "  * Shift + return to execute a cell\n",
    "\n",
    "## Goal\n",
    "\n",
    "The purpose of this notebook is to help you become familiar with calculus notion of a derivative."
   ]
  },
  {
   "cell_type": "markdown",
   "id": "a04e6adc-8849-4431-9f29-1901d3a1b029",
   "metadata": {},
   "source": [
    "### Import Modules \n",
    "Make Python modules (that is, collections of programs) available to this notebook.\n"
   ]
  },
  {
   "cell_type": "code",
   "execution_count": 2,
   "id": "0352a958-c65a-4ace-bcd8-139417a3afbc",
   "metadata": {},
   "outputs": [],
   "source": [
    "import os, sys\n",
    "import numpy as np\n",
    "import matplotlib as mp\n",
    "import matplotlib.pyplot as plt\n",
    "import sympy as sm\n",
    "import scipy as sp\n",
    "#import pandas as pd\n",
    "#import vpython as vp\n",
    "#import itertools as it\n",
    "\n",
    "sm.init_printing()        # activate \"pretty printing\" of symbolic expressions\n",
    "%matplotlib inline"
   ]
  },
  {
   "cell_type": "markdown",
   "id": "0bf90f47-5213-4686-8efb-2eadb1e17e56",
   "metadata": {},
   "source": [
    "### Setup fonts"
   ]
  },
  {
   "cell_type": "code",
   "execution_count": 2,
   "id": "46a8fbd2-2fcf-4d75-a7de-163501338afc",
   "metadata": {},
   "outputs": [],
   "source": [
    "# update fonts\n",
    "FONTSIZE = 14\n",
    "font = {'family' : 'sans-serif',\n",
    "        'weight' : 'normal',\n",
    "        'size'   : FONTSIZE}\n",
    "mp.rc('font', **font)\n",
    "\n",
    "# use latex if available on system, otherwise set usetex=False\n",
    "mp.rc('text', usetex=True)\n",
    "\n",
    "# set a seed to ensure reproducibility \n",
    "# on a given machine\n",
    "seed = 314159\n",
    "rnd  = np.random.RandomState(seed)"
   ]
  },
  {
   "cell_type": "code",
   "execution_count": null,
   "id": "c0eee87c-acd6-4789-9501-791eb3ee5f57",
   "metadata": {},
   "outputs": [],
   "source": []
  }
 ],
 "metadata": {
  "kernelspec": {
   "display_name": "Python 3 (ipykernel)",
   "language": "python",
   "name": "python3"
  },
  "language_info": {
   "codemirror_mode": {
    "name": "ipython",
    "version": 3
   },
   "file_extension": ".py",
   "mimetype": "text/x-python",
   "name": "python",
   "nbconvert_exporter": "python",
   "pygments_lexer": "ipython3",
   "version": "3.11.4"
  }
 },
 "nbformat": 4,
 "nbformat_minor": 5
}

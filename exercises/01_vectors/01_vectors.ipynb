{
 "cells": [
  {
   "attachments": {},
   "cell_type": "markdown",
   "id": "99aa72e3-eac9-4469-84f0-d60654a87e54",
   "metadata": {},
   "source": [
    "# Vectors: Solutions\n",
    "> Harrison B. Prosper\n",
    "\n",
    "## Tips\n",
    "\n",
    "  * Use __esc r__ to disable a cell\n",
    "  * Use __esc y__ to reactivate it\n",
    "  * Use __esc m__ to go to markdown mode\n",
    "  * Shift + return to execute a cell\n",
    "\n",
    "Click [here](https://www.w3schools.com/python/default.asp) for an excellent Python online tutorial."
   ]
  },
  {
   "cell_type": "markdown",
   "id": "a04e6adc-8849-4431-9f29-1901d3a1b029",
   "metadata": {},
   "source": [
    "### Import Modules \n",
    "Make Python modules (that is, collections of programs) available to this notebook.\n"
   ]
  },
  {
   "cell_type": "code",
   "execution_count": 1,
   "id": "0352a958-c65a-4ace-bcd8-139417a3afbc",
   "metadata": {},
   "outputs": [],
   "source": [
    "import os, sys\n",
    "import numpy as np\n",
    "import matplotlib as mp\n",
    "import matplotlib.pyplot as plt\n",
    "import sympy as sm\n",
    "import scipy as sp\n",
    "#import pandas as pd\n",
    "#import vpython as vp\n",
    "#import itertools as it\n",
    "\n",
    "sm.init_printing()        # activate \"pretty printing\" of symbolic expressions\n",
    "%matplotlib inline"
   ]
  },
  {
   "cell_type": "markdown",
   "id": "0bf90f47-5213-4686-8efb-2eadb1e17e56",
   "metadata": {},
   "source": [
    "### Setup fonts"
   ]
  },
  {
   "cell_type": "code",
   "execution_count": 2,
   "id": "46a8fbd2-2fcf-4d75-a7de-163501338afc",
   "metadata": {},
   "outputs": [],
   "source": [
    "# update fonts\n",
    "FONTSIZE = 14\n",
    "font = {'family' : 'sans-serif',\n",
    "        'weight' : 'normal',\n",
    "        'size'   : FONTSIZE}\n",
    "mp.rc('font', **font)\n",
    "\n",
    "# use latex if available on system, otherwise set usetex=False\n",
    "mp.rc('text', usetex=True)\n",
    "\n",
    "# set a seed to ensure reproducibility \n",
    "# on a given machine\n",
    "seed = 314159\n",
    "rnd  = np.random.RandomState(seed)"
   ]
  },
  {
   "cell_type": "markdown",
   "id": "005f31ca-b216-4839-9316-2448cbc08c74",
   "metadata": {},
   "source": [
    "## Exercise 1\n",
    "Create two vectors $\\vec{A} = (2,3,6)$ and $\\vec{B}=(6,4,12)$ using the __numpy__ Python module and then answer the following questions. Once the vectors are created, do not work with their components but do everything using __numpy__ operations.\n",
    " \n",
    "  1. Compute the magnitude of each vector.\n",
    "  2. Compute the unit vectors associated with each vector.\n",
    "  3. Compute the dot product between the vectors using their components.\n",
    "  4. Compute the angle between the vectors in radians.\n",
    "  6. Compute $\\vec{C} = \\vec{A} + \\vec{B}$.\n",
    "  7. Compute the dot product of $\\vec{C}$ with itself.\n",
    "  8. Compute $A^2 + B^2 + 2\\vec{A}\\cdot\\vec{B}$. How does this compare with $C^2$?\n",
    "  9. Compute a vector $\\vec{D}$ that is perpendicular to $\\vec{A}$. First derive a coordinate-independent formula for $\\vec{D}$. (*Hint*: draw a picture with the three vectors represented as arrows.) The vector $\\vec{D}$ should start from the vector $\\vec{A}$ and touch the head of vector $\\vec{B}$. What value should you get if you compute the dot product of $\\vec{D}$  with $\\vec{A}$? Verify your answer to four significant figures.\n",
    "  10. Compute the vector $\\vec{D}$, but this time use cross products (and, at most, a single dot product). (*Hint*: use the right hand rule, starting with $\\vec{B} \\times \\vec{A}$.)\n",
    "  \n"
   ]
  },
  {
   "cell_type": "markdown",
   "id": "0f7e6b2f-6d7d-480d-a6fa-b5f5fa25fe50",
   "metadata": {},
   "source": [
    "## Vector identities\n",
    "1. $\\vec{A} \\times (\\vec{B} \\times \\vec{C}) = (\\vec{A} \\times \\vec{B} ) \\times \\vec{C}$\n",
    "\n",
    "2. $\\vec{A} \\times (\\vec{B} \\times \\vec{C}) = \\vec{B}(\\vec{A}\\cdot\\vec{C}) - \\vec{C} (\\vec{A}\\cdot\\vec{B})$"
   ]
  },
  {
   "cell_type": "code",
   "execution_count": 3,
   "id": "def052ef-9c33-4c9a-aa41-a2840d9178c0",
   "metadata": {},
   "outputs": [
    {
     "data": {
      "text/plain": [
       "(array([  0.29048675, -15.35113016,  -1.82855168]),\n",
       " array([ 4.411309  , -0.017592  , 15.90737447]),\n",
       " array([ 5.95691615,  4.89154721, -4.90734978]))"
      ]
     },
     "execution_count": 3,
     "metadata": {},
     "output_type": "execute_result"
    }
   ],
   "source": [
    "# Three random vectors\n",
    "A = np.array([np.random.normal(0, 10), np.random.normal(0, 10), np.random.normal(0, 10)])\n",
    "B = np.array([np.random.normal(0, 10), np.random.normal(0, 10), np.random.normal(0, 10)])\n",
    "C = np.array([np.random.normal(0, 10), np.random.normal(0, 10), np.random.normal(0, 10)])\n",
    "A, B, C"
   ]
  },
  {
   "cell_type": "code",
   "execution_count": 4,
   "id": "0fd16a07-ca68-4a47-a25c-f737be791569",
   "metadata": {},
   "outputs": [
    {
     "data": {
      "text/plain": [
       "array([ -120.00160533,   135.82620588, -1159.35724422])"
      ]
     },
     "execution_count": 4,
     "metadata": {},
     "output_type": "execute_result"
    }
   ],
   "source": [
    "E = B*np.dot(A, C) - C*np.dot(A, B)\n",
    "E"
   ]
  },
  {
   "cell_type": "code",
   "execution_count": null,
   "id": "3160fbec-6b7d-4cfa-8503-90441fb025bf",
   "metadata": {},
   "outputs": [],
   "source": []
  }
 ],
 "metadata": {
  "kernelspec": {
   "display_name": "Python 3 (ipykernel)",
   "language": "python",
   "name": "python3"
  },
  "language_info": {
   "codemirror_mode": {
    "name": "ipython",
    "version": 3
   },
   "file_extension": ".py",
   "mimetype": "text/x-python",
   "name": "python",
   "nbconvert_exporter": "python",
   "pygments_lexer": "ipython3",
   "version": "3.11.5"
  }
 },
 "nbformat": 4,
 "nbformat_minor": 5
}

{
 "cells": [
  {
   "cell_type": "markdown",
   "id": "99aa72e3-eac9-4469-84f0-d60654a87e54",
   "metadata": {},
   "source": [
    "# Vectors - Solutions\n",
    "> Harrison B. Prosper<br>\n",
    "> Created September 2023 PHY1140C\n",
    "\n",
    "## Tips\n",
    "\n",
    "  * Use __esc r__ to disable a cell\n",
    "  * Use __esc y__ to reactivate it\n",
    "  * Use __esc m__ to go to markdown mode\n",
    "  * Shift + return to execute a cell\n",
    "\n",
    "Click [here](https://www.w3schools.com/python/default.asp) for an excellent Python online tutorial.\n",
    "\n",
    "## Goal\n",
    "\n",
    "The purpose of this notebook is to help you become familiar with vectors.\n",
    "\n",
    "## What is a vector?\n",
    "\n",
    "Many quantities in physics including __displacement__, __velocity__, and __force__ can be represented as vectors. \n",
    "\n",
    "Consider, for example, displacement. As the name implies, displacement has something to do with starting at one place and ending up somewhere else. Suppose you started in Tallahassee, Florida, and ended up in Atlanda, Georgia. Perhaps you flew from Tallahassee to Atlanta, or perhaps you decided to drive. Perhaps you first drove east on the I10 and then north on the I75; or perhaps you chose to drive on state roads and then join the I75 further north. \n",
    "\n",
    "There are many paths you could have taken to go from Tallahassee to Atlanta. But of all the paths between your starting and end points there is one that is the shortest. This is the straight line from your starting point to your end point. In practice, we can't take this path because a straight tunnel does not exist between Tallahassee and Atlanta! \n",
    "\n",
    "By definition, displacement is a mathematical object that represents the operation of starting at one point and ending at another by following the straight line between the two points. A displacement, therefore, has two attributes: a __magnitude__, in this case the straight-line distance between the two points, and a __direction__. A __vector__ is a quantity that encodes a magnitude, which is always positive or zero, and a direction. \n",
    "\n",
    "## Representing and encoding a vector\n",
    "\n",
    "Suppose that $v$ represents the magnitude of a vector. To remind us that a vector also has a direction, we use  $\\vec{v}$ as the symbolic representation of the vector whose magnitude is $v$. Another conventon is to use bold type, $\\vec{v}$, to represent a vector. To remind us that a magnitude cannot be negative, we sometimes represent the magnitude of a vector using the symbol $|\\vec{v}|$ or $|\\vec{v}|$. \n",
    "\n",
    "An arrow is a conceptually, and visually, appealing way of encoding the two attributes of a vector. The length of the arrow, which obviously can't be negative, is the magnitude, while the direction of the arrow is the direction of the vector. \n",
    "\n",
    "Another obvious \n",
    "way to encode, or represent, a vector is as a __tuple__, $(m, d)$, where $m$ is the magnitude and $d$ is the direction. (In mathematics, an $n$-tuple, $(x_1,\\cdots, x_n)$, is an ordered sequence of entities $x_1$ to $x_n$ that are to be viewed as a single entity.) For example, a velocity $\\vec{v}$ could be encoded as follows:  $\\vec{v} = (30 \\text{ mph}, \\text{$15^\\text{o}$ East of North})$.\n",
    "\n",
    "Vectors can be multiplied or divided by a number, that is, scaled. Suppose we multiply a vector by a positive number $f$. We need to agree on what we want this to mean. Let's agree that this means we scale the *magnitude* of the vector by the number $f$, while leaving the direction unchanged. This means that the new and old vectors would be parallel to each other since they are pointing in the same direction. Going back to our velocity example, this would mean that\n",
    "the new vector $\\vec{w}$ is given by\n",
    "\\begin{align}\n",
    "    \\vec{w} & = f \\, \\vec{v},\\nonumber\\\\\n",
    "            & = (f \\times 30 \\text{ mph}, \\text{$15^\\text{o}$ East of North}).\n",
    "\\end{align}\n",
    "Unfortunately, the equation above illustrates a problem with our tuple representation. Since we agree only to change the magnitude, we are forced to treat the first entry of the tuple differently from the second entry. There is another problem.\n",
    "\n",
    "Notice that if we scale a vector by the inverse of its magnitude, that is, we compute $\\vec{v} / v$, then the resulting vector will have a magnitude of one and have the same direction as the vector $\\vec{v}$. Moreover, the magnitude of the scaled vector will be dimensionless, that is, it will have no units. A dimensionless vector with a magnitude of one is called a __unit__ vector. It is represented with a symbol decorated with a \"hat\", e.g., $\\hat{v}$. \n",
    "\n",
    "The third problem with our tuple representation of a vector is that the magnitude may or may not be dimensionless, while the direction is always dimensionless. \n",
    "Yet another problem with the tuple representation is that if we scale the vector by a negative number, $f$, our previous rule for creating a new vector no longer works because magnitudes cannot be negative! So we need to change our rule and scale the magnitude by the *absolute* value of the scale factor $f$, denoted by the symbol $|f|$. \n",
    "\n",
    "But what do we do with the negative sign? Well, let's suppose it makes sense to add and subtract vectors. Then, if $f = -1$, it is surely natural to require that $\\vec{A} +  f \\, \\vec{A} = 0$. That $\\vec{A} - \\vec{A} = 0$ surely makes a lot of sense. But what precisely does it mean?\n",
    "\n",
    "Suppose we go from point A to point B in a straight line, a displacement we'll denote by $\\vec{D}$. If now we go from B to A that is a displacement in exactly the opposite direction to $\\vec{D}$. Therefore, it makes sense to interpret the vector $-\\vec{D}$ as a vector of the same magnitude as $\\vec{D}$ but pointing in exactly the opposite direction. Clearly, if I go from A to B and then B to A, my net displacement is zero because it is as if I haven't moved! Therefore, it indeed makes sense that $\\vec{D} - \\vec{D} = 0$. In summary, if we scale a vector by the number $f$ our rule must be this: scale the magnitude by $|f|$, that is, a positive number, thereby keeping the magnitude positive, but leave the direction unchanged unless $f$ is negative in which case reverse the direction of the vector.\n",
    "\n",
    "This rule is a bit messy! It would be nice to find a representation of a vector, inspired by its arrow representation, which treats the magnitude and direction in a tidy, uniform, way.\n",
    "\n",
    "\n",
    "## Vector algebra\n",
    "\n",
    "There is such a representation, namely, an $n$-tuple, where for the vectors we'll be using $n = 3$. (Physicists, routinely deal with vectors in $n > 3$ dimensions, even $n = \\infty$!) The key point about vectors, as alluded to, is that they can be manipulated algebraically, that is, there exists an algebra of vectors. Vectors can be scaled, they can be added, subtracted, and multiplied. For example, if I go from point A to point B and then from point B to point C, it is the same as going from point A to C. Therefore, if $\\vec{a}$ is the displacement from A to B, $\\vec{b}$ the displacement from B to C and $\\vec{c}$ the displacement from A to C, we define vector addition by\n",
    "\\begin{align}\n",
    "\\vec{c} & = \\vec{a} + \\vec{b}.\n",
    "\\end{align}\n",
    "In terms of the arrow representation of vectors, this means we start with an arrow whose tail is at A and its head at B, another with its tail at B and its head at C, while the arrow that represents $\\vec{c}$ has its tail at A and its head at C, as depicted in the figure to the left.\n",
    "<img src=\"fig01_vector.png\" align=\"left\" alt=\"vector adddition\" width=\"200\"/>\n",
    "But now we come to a crucial observation about vector addition. Since a vector has two attributes only, magnitude and direction, we are free to move the vector around so long as it maintains its direction and its magnitude (think of moving the arrows around while maintaining their directions). Therefore, we can go from A to C with a displacement along the vector $\\vec{b}$ first followed by a displacement along the vector $\\vec{a}$, as shown in the figure to the right.\n",
    "<br clear=\"left\"/>\n",
    "\n",
    "<img src=\"fig02_vector.png\" align=\"right\" alt=\"vector adddition\" width=\"200\"/>\n",
    "Obviously, we won't go via point B, but we'll arrive at the same place, namely, point C. This sequence of vector operations corresponds to the vector addition\n",
    "\\begin{align}\n",
    "\\vec{c} & = \\vec{b} + \\vec{a}.\n",
    "\\end{align}\n",
    "This shows that the addition of vectors behaves like the addition of numbers in that the operation of addition is commutative, e.g.: 2 + 3 = 3 + 2.\n",
    "<br clear=\"right\"/>\n",
    "\n",
    "### Coordinate vectors\n",
    "\n",
    "The fact that vectors can be added and subtracted suggests a better algebraic way to represent them. Suppose we have designated some point in space to be a marker with respect to which the positions of all other points are specified. The special marker is called the __origin__. Since the choice of origin is arbitrary, we are free to choose it as we see fit. For example, if we are modeling the orbits of the inner planets, we may choose the center of the Sun as the origin. If we are modeling a projectile, it may be more convenient to choose the launch position as the origin. At the origin, we erect three mutually orthogonal lines, that is, lines such that each is at right angles to the other two. Let's label these lines, each an axis, $x$, $y$, and $z$. This construct is called a __Cartesian coordinate system__. We need three axes because space has 3 dimensions. A space with $n$ dimensions needs $n$ axes.\n",
    "\n",
    "Another way of thinking about the unit vectors is that they *define* the Cartesian coordinate system by specifying the directions of its three axes, as depicted in the figure.\n",
    "<img src=\"fig03_cartesian.png\" align=\"left\" alt=\"Cartesian coordinate system\" width=\"200\"/>\n",
    "The location of any point in 3-dimensional space can be specified by a 3-tuple $(x, y, z)$, where $x$, $y$, and $z$ are called the __coordinates__ of the point with respect to the origin of the chosen coordinate system along the directions specified by the associated unit vectors. The 3-tuple specifies, or defines, a __position vector__, $\\vec{r} = (x, y, z)$. An example of a widely used Cartesian coordinate system is the __heliocentric ecliptic coordinate system__, which is shown here.\n",
    "<img src=\"fig04_heliocentric.png\" align=\"right\" alt=\"heliocentric coordinate system\" width=\"400\"/>\n",
    "The center of this coordinate system is near the center of the Sun. In fact, the origin of this coordinate system is (by [international agreement](https://en.wikipedia.org/wiki/International_Celestial_Reference_System_and_its_realizations)) at the center of mass of the Solar System.\n",
    "\n",
    "Like position in 3-dimensional space, a velocity can also be specified by giving three numbers $\\vec{v} = (v_x, v_y, v_z)$, where $v_x$, $v_y$, and $v_z$ are the components of the velocity in the $\\hat{i}$, $\\hat{j}$, and $\\hat{k}$ directions, respectively. \n",
    "If we represent the three unit vectors as $\\hat{i} = (1, 0, 0)$, \n",
    "$\\hat{j} = (0, 1, 0)$, and $\\hat{k} = (0, 0, 1)$, we can write position and velocity as\n",
    "\\begin{align}\n",
    "    \\vec{r} & = x \\, \\hat{i} + y \\, \\hat{j} + z \\, \\hat{k}, \\\\\n",
    "    \\vec{v} & = v_x \\, \\hat{i} + v_y \\, \\hat{j} + v_z \\, \\hat{k}.\n",
    "\\end{align}\n",
    "But remember the above expressions remain true regardless of the specific coordinate representations of the vectors.\n",
    "\n",
    "As noted above, vectors (if you think of them as arrows) can be moved around. This is true also of the position vector. But, by convention, we agree to fix the tail end of the position vector at the origin.\n",
    "<br clear=\"right\"/>\n",
    "\n",
    "An important point to note is that if we change the coordinate system (perhaps it it rotated), the three numbers that represent a vector, that is, the __vector components__, will, in general, change. But the vector they represent remains the same: it has same magnitude and the same direction. A vector is said to be a __coordinate-independent__ object. Even though physicists almost always use coordinate systems for calculations, we prefer to use them with coordinate-independent objects such as vectors so that we obtain results that do not depend on the arbitrarily chosen coordinate system. After all, Nature doesn't care about artifacts such as coordinate systems! Vector components are used only because they are a convenient way to define, or represent, a vector, but in many physics problems it is possible to work with vectors without ever having to consider their components. In one of the problems below, you'll be invited to work out a coordinate-independent formula for a new vector from two other vectors."
   ]
  },
  {
   "cell_type": "markdown",
   "id": "a04e6adc-8849-4431-9f29-1901d3a1b029",
   "metadata": {},
   "source": [
    "### Import Modules \n",
    "Make Python modules (that is, collections of programs) available to this notebook.\n"
   ]
  },
  {
   "cell_type": "code",
   "execution_count": 2,
   "id": "0352a958-c65a-4ace-bcd8-139417a3afbc",
   "metadata": {},
   "outputs": [],
   "source": [
    "import os, sys\n",
    "import numpy as np\n",
    "import matplotlib as mp\n",
    "import matplotlib.pyplot as plt\n",
    "import sympy as sm\n",
    "import scipy as sp\n",
    "#import pandas as pd\n",
    "#import vpython as vp\n",
    "#import itertools as it\n",
    "\n",
    "sm.init_printing()        # activate \"pretty printing\" of symbolic expressions\n",
    "%matplotlib inline"
   ]
  },
  {
   "cell_type": "markdown",
   "id": "0bf90f47-5213-4686-8efb-2eadb1e17e56",
   "metadata": {},
   "source": [
    "### Setup fonts"
   ]
  },
  {
   "cell_type": "code",
   "execution_count": 3,
   "id": "46a8fbd2-2fcf-4d75-a7de-163501338afc",
   "metadata": {},
   "outputs": [],
   "source": [
    "# update fonts\n",
    "FONTSIZE = 14\n",
    "font = {'family' : 'sans-serif',\n",
    "        'weight' : 'normal',\n",
    "        'size'   : FONTSIZE}\n",
    "mp.rc('font', **font)\n",
    "\n",
    "# use latex if available on system, otherwise set usetex=False\n",
    "mp.rc('text', usetex=True)\n",
    "\n",
    "# set a seed to ensure reproducibility \n",
    "# on a given machine\n",
    "seed = 314159\n",
    "rnd  = np.random.RandomState(seed)"
   ]
  },
  {
   "cell_type": "markdown",
   "id": "aea9f20a-2ddd-4420-8524-77a613d00680",
   "metadata": {},
   "source": [
    "## Vector Basics\n",
    "\n",
    "### Dot product\n",
    "Given vectors $\\vec{A} = (A_x, A_y, A_z)$ and $\\vec{B} = (B_x, B_y, B_z)$ with components defined with respect to some coordinate system, the __dot product__ between them is \n",
    "\\begin{align}\n",
    "    \\vec{A} \\cdot \\vec{B} & = A_x B_x + A_y B_y + A_z B_z.\n",
    "\\end{align}\n",
    "At face value, this formula suggests that the dot product depends on the vector components and consequently on the coordinate system that is used to define them. In fact, the dot product is independent of the coordinate system. Try to show this by proving that  the dot product can be expressed as\n",
    "\\begin{align}\n",
    "    \\vec{A} \\cdot \\vec{B} & = A B \\cos(\\theta),\n",
    "\\end{align}\n",
    "where $A$ and $B$ are the magnitudes (see below) and $\\theta$ is the angle between the vectors. Since neither the magnitudes nor the angle between the vectors depend on the coordinate system, it follows that the dot product is likewise coordinate independent. Therefore, if we use the first form of the dot product, we'll always get the same answer whatever coordinate system we use. \n",
    "\n",
    "### Magnitude\n",
    "The magnitude of a vector, $\\vec{A}$, is defined by \n",
    "\\begin{align}\n",
    "A & = \\sqrt{ \\vec{A} \\cdot \\vec{A}}, \\\\\n",
    "    & = \\sqrt{A_x^2 + A_y^2 + A_z^2} .\n",
    "\\end{align}\n",
    "What ancient theorem does this remind you of?\n",
    "\n",
    "### Cross product\n",
    "Given two vectors $\\vec{A}$ and $\\vec{B}$ the cross product creates another vector $\\vec{C}$ defined by\n",
    "\\begin{align}\n",
    "    \\vec{C} & = \\vec{A} \\times \\vec{B},\\\\\n",
    "            & = A B \\sin(\\theta) \\, \\hat{n},\n",
    "\\end{align}\n",
    "where $\\hat{n}$ is a unit vector that is perpendicular to the plane containing $\\vec{A}$ and $\\vec{B}$. But this leaves a twofold ambiguity in the orientation of $\\hat{n}$, which can be resolved as follows.\n",
    "With your right hand do the following.\n",
    "\n",
    "   1. Point your fingers in the direction of vector $\\vec{A}$, the vector to the left in the cross product.\n",
    "   2. Curl your fingers into the direction of vector $\\vec{B}$. If you can't, you must rotate your wrist by about 180$^\\text{o}$ (yes, this can be quite awkward) and start again with step 1. \n",
    "   3. The direction in which your thumb is pointing gives the correct orientation of $\\hat{n}$.\n",
    "\n",
    "The rule above is called the __right-hand rule__. Remember it; you'll use it many times over the next few years. Like the dot product, the cross product is coordinate-independent. But unlike the dot product, the cross product is non-commutative: $\\vec{A} \\times \\vec{B} \\neq \\vec{B} \\times \\vec{A}$.\n",
    "\n",
    "## Numpy Basics\n",
    "\n",
    "An __array__ is an ordered sequence of objects. For example, [1,2,3,4] is a 1-dimensional array of integers; [[1.5,2.7,3.141,4.2], [0.5,0.1,9.1,3.6]] is an example of a 2-dimensional array of real numbers. \n",
    "__numpy__ is the standard software module for manipulating arrays of numbers in Python. The best way to learn numpy and any software is to use it! Work through the following simple examples and try to understand what is being done. Feel free to change the examples to test your understanding. \n",
    "\n",
    "Then work on __Exercise 1__."
   ]
  },
  {
   "cell_type": "code",
   "execution_count": 4,
   "id": "827cf8d7-412b-485d-8943-39f85190fb06",
   "metadata": {},
   "outputs": [
    {
     "data": {
      "text/plain": [
       "(array([1, 2, 3]), array([3, 2, 1]))"
      ]
     },
     "execution_count": 4,
     "metadata": {},
     "output_type": "execute_result"
    }
   ],
   "source": [
    "# 1. creating arrays\n",
    "a = np.array((1,2,3))\n",
    "b = np.array((3,2,1))\n",
    "a, b"
   ]
  },
  {
   "cell_type": "code",
   "execution_count": 5,
   "id": "257c86a9-05c2-4a5f-95df-1659a191e776",
   "metadata": {},
   "outputs": [
    {
     "data": {
      "text/plain": [
       "array([4, 4, 4])"
      ]
     },
     "execution_count": 5,
     "metadata": {},
     "output_type": "execute_result"
    }
   ],
   "source": [
    "# 2. compute a + b\n",
    "c = a + b\n",
    "c"
   ]
  },
  {
   "cell_type": "code",
   "execution_count": 6,
   "id": "8d1e5bec-1273-477a-aa66-2db994fe8f04",
   "metadata": {},
   "outputs": [
    {
     "data": {
      "text/plain": [
       "array([3, 4, 3])"
      ]
     },
     "execution_count": 6,
     "metadata": {},
     "output_type": "execute_result"
    }
   ],
   "source": [
    "# 3. compute a*b\n",
    "d = a * b\n",
    "d"
   ]
  },
  {
   "cell_type": "code",
   "execution_count": 7,
   "id": "9922271e-7573-4959-b28e-cb3871cb622e",
   "metadata": {},
   "outputs": [
    {
     "data": {
      "text/plain": [
       "10"
      ]
     },
     "execution_count": 7,
     "metadata": {},
     "output_type": "execute_result"
    }
   ],
   "source": [
    "# 4. compute sum(a*b)\n",
    "f = np.sum(d)\n",
    "f"
   ]
  },
  {
   "cell_type": "code",
   "execution_count": 8,
   "id": "cb816e94-c1b2-425b-ba9f-6303f90c690c",
   "metadata": {},
   "outputs": [
    {
     "data": {
      "text/plain": [
       "array([0.5, 1. , 1.5])"
      ]
     },
     "execution_count": 8,
     "metadata": {},
     "output_type": "execute_result"
    }
   ],
   "source": [
    "# 5. divide a by 2\n",
    "a2 = a / 2\n",
    "a2"
   ]
  },
  {
   "cell_type": "code",
   "execution_count": 9,
   "id": "d80ceb4a-acc7-4a54-8bfb-eb8d41c24734",
   "metadata": {},
   "outputs": [
    {
     "data": {
      "text/plain": [
       "array([1.        , 1.41421356, 1.73205081])"
      ]
     },
     "execution_count": 9,
     "metadata": {},
     "output_type": "execute_result"
    }
   ],
   "source": [
    "# 6. compute sqrt(a)\n",
    "sqa = np.sqrt(a)\n",
    "sqa"
   ]
  },
  {
   "cell_type": "code",
   "execution_count": 10,
   "id": "ca309a42-8c2f-4cd9-9ae1-4d885eba6e0f",
   "metadata": {},
   "outputs": [
    {
     "data": {
      "text/plain": [
       "(array([1, 2, 3]),\n",
       " array([3, 2, 1]),\n",
       " array([[3, 2, 1],\n",
       "        [6, 4, 2],\n",
       "        [9, 6, 3]]))"
      ]
     },
     "execution_count": 10,
     "metadata": {},
     "output_type": "execute_result"
    }
   ],
   "source": [
    "# 7. compute outer product of a and b\n",
    "ab = np.outer(a, b)\n",
    "a,b,ab"
   ]
  },
  {
   "cell_type": "code",
   "execution_count": 11,
   "id": "a1999a4a-b7ac-4b2e-903f-5991db62e31e",
   "metadata": {},
   "outputs": [
    {
     "data": {
      "text/plain": [
       "10"
      ]
     },
     "execution_count": 11,
     "metadata": {},
     "output_type": "execute_result"
    }
   ],
   "source": [
    "# 8. compute inner product of a and b\n",
    "abi = np.inner(a, b)\n",
    "abi"
   ]
  },
  {
   "cell_type": "code",
   "execution_count": 12,
   "id": "c81dde7f-c9b1-4df5-91a3-68e2526b1f6d",
   "metadata": {},
   "outputs": [
    {
     "data": {
      "text/plain": [
       "(array([[3],\n",
       "        [2],\n",
       "        [1]]),\n",
       " (3, 1))"
      ]
     },
     "execution_count": 12,
     "metadata": {},
     "output_type": "execute_result"
    }
   ],
   "source": [
    "# 9. convert b to a 2d array of shape (3, 1)\n",
    "b2 = b[:, np.newaxis]\n",
    "b2, b2.shape"
   ]
  },
  {
   "cell_type": "markdown",
   "id": "b955c700-5f37-4396-b403-c957b0f2b305",
   "metadata": {},
   "source": [
    "10. compute $a - b2$ and try to explain the result."
   ]
  },
  {
   "cell_type": "code",
   "execution_count": 13,
   "id": "145778f9-2254-458f-880d-b4b14be0734f",
   "metadata": {},
   "outputs": [
    {
     "data": {
      "text/plain": [
       "array([[-2, -1,  0],\n",
       "       [-1,  0,  1],\n",
       "       [ 0,  1,  2]])"
      ]
     },
     "execution_count": 13,
     "metadata": {},
     "output_type": "execute_result"
    }
   ],
   "source": [
    "# 10. compute a - b2\n",
    "ab2 = a - b2\n",
    "ab2"
   ]
  },
  {
   "cell_type": "markdown",
   "id": "a0f256d7-6253-4c60-b384-c57235880dc4",
   "metadata": {},
   "source": [
    "The following replicates the operations that led to the result above."
   ]
  },
  {
   "cell_type": "code",
   "execution_count": 14,
   "id": "dd43dfed-ce13-40e7-8b63-78b7376634d1",
   "metadata": {},
   "outputs": [
    {
     "name": "stdout",
     "output_type": "stream",
     "text": [
      "a2, shape: (1, 3)\n",
      "[[1 2 3]]\n",
      "\n",
      "aa, shape: (3, 3)\n",
      "[[1 2 3]\n",
      " [1 2 3]\n",
      " [1 2 3]]\n",
      "\n",
      "b2, shape: (3, 1)\n",
      "[[3]\n",
      " [2]\n",
      " [1]]\n",
      "\n",
      "bb, shape: (3, 3)\n",
      "[[3 3 3]\n",
      " [2 2 2]\n",
      " [1 1 1]]\n",
      "\n",
      "aa - bb, shape: (3, 3)\n",
      "[[-2 -1  0]\n",
      " [-1  0  1]\n",
      " [ 0  1  2]]\n",
      "\n"
     ]
    }
   ],
   "source": [
    "def print_array(name, myarray):\n",
    "    print(f'{name:s}, shape: {str(myarray.shape):s}\\n{str(myarray):s}\\n')\n",
    "    \n",
    "# 1. make a into a 2D array of shape (1, 3)\n",
    "a2 = a[np.newaxis, :]\n",
    "print_array('a2', a2)\n",
    "\n",
    "# 2. extend a2 vertically, that is, along axis 0, by repeating the row 3 times\n",
    "aa = np.repeat(a2, 3, axis=0)\n",
    "print_array('aa', aa)\n",
    "\n",
    "# 3. extend b2 horizontally, that is, along axis 1, by repeating the column 3 times\n",
    "print_array('b2', b2)\n",
    "\n",
    "bb = np.repeat(b2, 3, axis=1)\n",
    "print_array('bb', bb)\n",
    "\n",
    "# 4. now perform an element-wise subtraction aa - bb\n",
    "print_array('aa - bb', aa-bb)"
   ]
  },
  {
   "cell_type": "code",
   "execution_count": 15,
   "id": "e9d04750-f582-4deb-87ea-d73be27a1bbd",
   "metadata": {},
   "outputs": [
    {
     "data": {
      "text/plain": [
       "array([ 0.54030231, -0.41614684, -0.9899925 ])"
      ]
     },
     "execution_count": 15,
     "metadata": {},
     "output_type": "execute_result"
    }
   ],
   "source": [
    "# 11. compute cos(a)\n",
    "cosa = np.cos(a)\n",
    "cosa"
   ]
  },
  {
   "cell_type": "code",
   "execution_count": 16,
   "id": "c65aefcf-8871-4f14-acc7-41f3236535ea",
   "metadata": {},
   "outputs": [
    {
     "data": {
      "text/plain": [
       "array([ 57.29577951, 114.59155903, 171.88733854])"
      ]
     },
     "execution_count": 16,
     "metadata": {},
     "output_type": "execute_result"
    }
   ],
   "source": [
    "# 12. compute acos(a) and convert the angles from radians to degrees\n",
    "acosa = np.arccos(cosa) * 180 / np.pi\n",
    "acosa"
   ]
  },
  {
   "cell_type": "code",
   "execution_count": 17,
   "id": "90c9b292-cee4-4378-bb8a-d332b111197d",
   "metadata": {},
   "outputs": [
    {
     "data": {
      "text/plain": [
       "10"
      ]
     },
     "execution_count": 17,
     "metadata": {},
     "output_type": "execute_result"
    }
   ],
   "source": [
    "# 13. compute dot product a . b\n",
    "adotb = np.dot(a, b)\n",
    "adotb"
   ]
  },
  {
   "cell_type": "code",
   "execution_count": 18,
   "id": "e25e4dc6-ab7f-41f5-9460-148a1b1add8e",
   "metadata": {},
   "outputs": [
    {
     "data": {
      "text/plain": [
       "array([-4,  8, -4])"
      ]
     },
     "execution_count": 18,
     "metadata": {},
     "output_type": "execute_result"
    }
   ],
   "source": [
    "# 14. compute cross product a x b\n",
    "acrossb = np.cross(a, b)\n",
    "acrossb"
   ]
  },
  {
   "cell_type": "code",
   "execution_count": 19,
   "id": "841100db-ae1c-42c7-aa7e-aa84791faafe",
   "metadata": {},
   "outputs": [
    {
     "data": {
      "text/plain": [
       "array([ 4, -8,  4])"
      ]
     },
     "execution_count": 19,
     "metadata": {},
     "output_type": "execute_result"
    }
   ],
   "source": [
    "# 15. compute cross product of b x a\n",
    "bcrossa = np.cross(b, a)\n",
    "bcrossa"
   ]
  },
  {
   "cell_type": "code",
   "execution_count": 20,
   "id": "f5da7678-7d6b-4e47-8cc9-ed00d4116591",
   "metadata": {},
   "outputs": [
    {
     "data": {
      "text/plain": [
       "0"
      ]
     },
     "execution_count": 20,
     "metadata": {},
     "output_type": "execute_result"
    }
   ],
   "source": [
    "# 16. compute dot product of a and a x b\n",
    "adot_axb = np.dot(a, acrossb)\n",
    "adot_axb"
   ]
  },
  {
   "cell_type": "markdown",
   "id": "005f31ca-b216-4839-9316-2448cbc08c74",
   "metadata": {},
   "source": [
    "## Exercise 1\n",
    "Create two vectors $\\vec{A} = (2,3,6)$ and $\\vec{B}=(6,4,12)$ using the __numpy__ Python module and then answer the following questions. Once the vectors are created, do not work with their components but do everything using __numpy__ operations.\n",
    " \n",
    "  1. Compute the magnitude of each vector.\n",
    "  2. Compute the unit vectors associated with each vector.\n",
    "  3. Compute the dot product between the vectors using their components.\n",
    "  4. Compute the angle between the vectors in radians.\n",
    "  6. Compute $\\vec{C} = \\vec{A} + \\vec{B}$.\n",
    "  7. Compute the dot product of $\\vec{C}$ with itself.\n",
    "  8. Compute $A^2 + B^2 + 2\\vec{A}\\cdot\\vec{B}$. How does this compare with $C^2$?\n",
    "  9. Compute a vector $\\vec{D}$ that is perpendicular to $\\vec{A}$. First derive a coordinate-independent formula for $\\vec{D}$. (*Hint*: draw a picture with the three vectors represented as arrows.) The vector $\\vec{D}$ should start from the vector $\\vec{A}$ and touch the head of vector $\\vec{B}$. What value should you get if you compute the dot product of $\\vec{D}$  with $\\vec{A}$? Verify your answer to four significant figures.\n",
    "  10. Compute the vector $\\vec{D}$, but this time use cross products (and, at most, a single dot product). (*Hint*: use the right hand rule, starting with $\\vec{B} \\times \\vec{A}$.)\n",
    "  \n"
   ]
  },
  {
   "cell_type": "markdown",
   "id": "85ea276c-f7b7-44b5-953b-96d085ad8c0d",
   "metadata": {},
   "source": [
    "### Solutions"
   ]
  },
  {
   "cell_type": "code",
   "execution_count": 21,
   "id": "def052ef-9c33-4c9a-aa41-a2840d9178c0",
   "metadata": {},
   "outputs": [
    {
     "data": {
      "text/plain": [
       "(array([2, 3, 6]), array([ 6,  4, 12]))"
      ]
     },
     "execution_count": 21,
     "metadata": {},
     "output_type": "execute_result"
    }
   ],
   "source": [
    "A = np.array((2,3,6))\n",
    "B = np.array((6,4,12))\n",
    "A, B"
   ]
  },
  {
   "cell_type": "markdown",
   "id": "2cbcbffc-14ce-4fef-8a72-cefb7ce2d59e",
   "metadata": {},
   "source": [
    "1. Compute the magnitude of each vector.\n",
    "\n",
    "$|\\vec{A}| = \\sqrt{\\vec{A}\\cdot\\vec{A}}$"
   ]
  },
  {
   "cell_type": "code",
   "execution_count": 22,
   "id": "c0eee87c-acd6-4789-9501-791eb3ee5f57",
   "metadata": {},
   "outputs": [
    {
     "data": {
      "image/png": "[encoded data removed]",
      "text/latex": [
       "$\\displaystyle \\left( 7.0, \\  14.0\\right)$"
      ],
      "text/plain": [
       "(7.0, 14.0)"
      ]
     },
     "execution_count": 22,
     "metadata": {},
     "output_type": "execute_result"
    }
   ],
   "source": [
    "def magnitude(a):\n",
    "    return np.sqrt(np.dot(a, a))\n",
    "    \n",
    "a = magnitude(A)\n",
    "b = magnitude(B)\n",
    "a, b"
   ]
  },
  {
   "cell_type": "markdown",
   "id": "0d6f3847-667b-4b19-8c42-5725aaab31c1",
   "metadata": {},
   "source": [
    "2. Compute the unit vectors associated with each vector.\n",
    "\n",
    "$\\hat{A} = \\vec{A} / |\\vec{A}|$"
   ]
  },
  {
   "cell_type": "code",
   "execution_count": 23,
   "id": "f125767a-99f3-4695-8042-a6d167d61830",
   "metadata": {},
   "outputs": [
    {
     "data": {
      "text/plain": [
       "(array([0.28571429, 0.42857143, 0.85714286]),\n",
       " array([0.42857143, 0.28571429, 0.85714286]),\n",
       " 0.9999999999999999,\n",
       " 0.9999999999999999)"
      ]
     },
     "execution_count": 23,
     "metadata": {},
     "output_type": "execute_result"
    }
   ],
   "source": [
    "A_hat = A / a\n",
    "B_hat = B / b\n",
    "A_hat, B_hat, magnitude(A_hat), magnitude(B_hat)"
   ]
  },
  {
   "cell_type": "markdown",
   "id": "95c9bfde-8953-4801-a60c-8f76f9f31f2e",
   "metadata": {},
   "source": [
    "3. Compute the dot product between the vectors using their components.\n",
    "\n",
    "$\\vec{A}\\cdot\\vec{B} = A_x B_x + A_y B_y + A_z B_z$"
   ]
  },
  {
   "cell_type": "code",
   "execution_count": 25,
   "id": "41f5988b-1e95-4bc7-8be6-55777da95d2b",
   "metadata": {},
   "outputs": [
    {
     "data": {
      "text/plain": [
       "96"
      ]
     },
     "execution_count": 25,
     "metadata": {},
     "output_type": "execute_result"
    }
   ],
   "source": [
    "AdotB = np.sum(A * B)\n",
    "AdotB"
   ]
  },
  {
   "cell_type": "markdown",
   "id": "c607bbf5-36a7-4a5f-bb12-e595ce420bf2",
   "metadata": {},
   "source": [
    "4. Compute the angle between the vectors in radians.\n",
    "\n",
    "$\\vec{A}\\cdot\\vec{B} = A B \\cos(\\theta)$, therefore,\n",
    "\n",
    "$\\theta = \\cos^{-1}(\\vec{A}\\cdot\\vec{B}/(|\\vec{A}| |\\vec{B}|))$"
   ]
  },
  {
   "cell_type": "code",
   "execution_count": 26,
   "id": "89031333-8166-4d68-afd1-37fe4c42d23b",
   "metadata": {},
   "outputs": [
    {
     "name": "stdout",
     "output_type": "stream",
     "text": [
      "angle between A and B: 0.20 radians, 11.6 degrees\n"
     ]
    }
   ],
   "source": [
    "theta   = np.arccos(AdotB/a/b)\n",
    "degrees = theta * 180 / np.pi\n",
    "print(f'angle between A and B: {theta:4.2f} radians, {degrees:4.1f} degrees')"
   ]
  },
  {
   "cell_type": "markdown",
   "id": "05524195-e92a-42ef-ba26-7745f4bd73ef",
   "metadata": {},
   "source": [
    "5. Compute $\\vec{C} = \\vec{A} + \\vec{B}$."
   ]
  },
  {
   "cell_type": "code",
   "execution_count": 27,
   "id": "132a5078-83fc-4550-bfb0-898e3e0684d2",
   "metadata": {},
   "outputs": [
    {
     "data": {
      "text/plain": [
       "(array([2, 3, 6]), array([ 6,  4, 12]), array([ 8,  7, 18]))"
      ]
     },
     "execution_count": 27,
     "metadata": {},
     "output_type": "execute_result"
    }
   ],
   "source": [
    "C = A + B\n",
    "A, B, C"
   ]
  },
  {
   "cell_type": "markdown",
   "id": "495edd88-4b07-40ae-a239-2a956f3d33c4",
   "metadata": {},
   "source": [
    "6. Compute the dot product of $\\vec{C}$ with itself."
   ]
  },
  {
   "cell_type": "code",
   "execution_count": 28,
   "id": "c5a67ca2-c8e8-4d92-b0cd-2b1a89abd690",
   "metadata": {},
   "outputs": [
    {
     "data": {
      "text/plain": [
       "437"
      ]
     },
     "execution_count": 28,
     "metadata": {},
     "output_type": "execute_result"
    }
   ],
   "source": [
    "C2 = np.dot(C, C)\n",
    "C2"
   ]
  },
  {
   "cell_type": "markdown",
   "id": "3db58edb-d70c-41fa-9502-4183adf5cfc9",
   "metadata": {},
   "source": [
    "7. Compute $A^2 + B^2 + 2\\vec{A}\\cdot\\vec{B}$. How does this compare with $C^2$?"
   ]
  },
  {
   "cell_type": "code",
   "execution_count": 29,
   "id": "dd2c98d9-ede0-4951-bb7b-bd77db4fc423",
   "metadata": {},
   "outputs": [
    {
     "data": {
      "text/plain": [
       "(437, 437.0)"
      ]
     },
     "execution_count": 29,
     "metadata": {},
     "output_type": "execute_result"
    }
   ],
   "source": [
    "F = a**2 + b**2 + 2*AdotB\n",
    "C2, F"
   ]
  },
  {
   "cell_type": "markdown",
   "id": "1b4682dd-487a-4756-9f68-4dd6b990f15d",
   "metadata": {},
   "source": [
    "8. Compute a vector $\\vec{D}$ that is perpendicular to $\\vec{A}$. First derive a coordinate-independent formula for $\\vec{D}$. (*Hint*: draw a picture with the three vectors represented as arrows.)\n",
    "<img src=\"fig05_vectors_A_B_D.png\" align=\"left\" alt=\"vector adddition 2\" width=\"200\"/>\n",
    "The vector $\\vec{D}$ should start from the vector $\\vec{A}$ and touch the head of vector $\\vec{B}$. What value should you get if you compute the dot product of $\\vec{D}$  with $\\vec{A}$? Verify your answer to four significant figures.\n",
    "<br clear=\"left\"/>"
   ]
  },
  {
   "cell_type": "markdown",
   "id": "b473ca65-a06c-49c6-826c-7a1e366b71fa",
   "metadata": {},
   "source": [
    "In the figure above, consider the vector from point O to point P. We'll call this vector $\\vec{E}$. Note that $\\vec{E} + \\vec{D} = \\vec{B}$, therefore, $\\vec{D} = \\vec{B} - \\vec{E}$. Note also that $\\vec{E}$ has magnitude $|B\\cos(\\theta)|$. $\\vec{E}$ is also parallel to $\\vec{A}$. Therefore, we can write \n",
    "\\begin{align}\n",
    "    \\vec{E} & = \\left( \\frac{ \\vec{A} }{  |\\vec{A}| } \\right) \n",
    "    \\left( \\frac{\\vec{A} \\cdot  \\vec{B} } { |\\vec{A} |} \\right).\n",
    "\\end{align}\n",
    "Consequently, given that $|\\vec{A}|^2 = \\vec{A} \\cdot \\vec{A}$,\n",
    "\\begin{align}\n",
    "    \\vec{D} & = \\vec{B} - \\frac{ \\vec{A} (\\vec{A} \\cdot \\vec{B}) } { \\vec{A} \\cdot \\vec{A} }, \\\\\n",
    "        &= \\frac{\\vec{B} (\\vec{A} \\cdot \\vec{A}) - \\vec{A} (\\vec{A} \\cdot \\vec{B}) } { \\vec{A} \\cdot \\vec{A} } .\n",
    "\\end{align}"
   ]
  },
  {
   "cell_type": "code",
   "execution_count": 30,
   "id": "0adccd9c-4009-4bb0-9d02-e64957e712ad",
   "metadata": {},
   "outputs": [
    {
     "name": "stdout",
     "output_type": "stream",
     "text": [
      "D dot A:    -0.0000\n",
      "      2.81,       2.81\n"
     ]
    },
    {
     "data": {
      "text/plain": [
       "array([ 2.08163265, -1.87755102,  0.24489796])"
      ]
     },
     "execution_count": 30,
     "metadata": {},
     "output_type": "execute_result"
    }
   ],
   "source": [
    "AA = np.dot(A, A)\n",
    "AB = np.dot(A, B)\n",
    "D  = (B * AA - A * AB)/AA\n",
    "DA = np.dot(D, A)\n",
    "print(f'D dot A: {DA:10.4f}')\n",
    "\n",
    "# from the figure, we expect the magnitude of D to be B*sin(theta)\n",
    "d = magnitude(D)\n",
    "y = b * np.sin(theta)\n",
    "print(f'{d:10.2f}, {y:10.2f}')\n",
    "\n",
    "D"
   ]
  },
  {
   "cell_type": "markdown",
   "id": "5cd16b0f-50be-40cf-9458-a59eb446faf3",
   "metadata": {},
   "source": [
    "9. Compute the vector $\\vec{D}$, but this time use cross products (and, at most, a single dot product). (*Hint*: use the right hand rule, starting with $\\vec{B} \\times \\vec{A}$.)"
   ]
  },
  {
   "cell_type": "markdown",
   "id": "d38e947c-4183-4a82-a866-59651b2f5303",
   "metadata": {},
   "source": [
    "Following the hint, we first compute $\\vec{C} = \\vec{B} \\times \\vec{A}$. The vector $\\vec{C}$ has magnitude $|\\vec{A}||\\vec{B}|\\sin(\\theta)$, is perpendicular to both $\\vec{B}$ and $\\vec{A}$, and, from the right-hand rule, points out of the page.\n",
    "\n",
    "We want a vector that is at right angles to, and points away from, $\\vec{A}$. Since $\\vec{A}$ and $\\vec{C}$ are perpendicular, a vector perpendicular to both $\\vec{A}$ and $\\vec{C}$ necessarily lies in the plane formed by $\\vec{B}$ and $\\vec{A}$.\n",
    "\n",
    "This suggests forming the vector $\\vec{Q} = \\vec{A} \\times \\vec{C}$. According to the right-hand rule, $\\vec{Q}$ points away from $\\vec{A}$ towards $\\vec{B}$. Therefore, $\\vec{Q}$ is in the same direction as $\\vec{D}$. So all we need to do is adjust the magnitude to $\\vec{Q}$ to get $\\vec{D}$. The magitude of $\\vec{Q}$ is $|\\vec{A}| |\\vec{C}|\\sin(\\pi/2) = |\\vec{A}|^2|\\vec{B}|\\sin(\\theta)$, that is, $(\\vec{A}\\cdot\\vec{A})|\\vec{B}|\\sin(\\theta)$. We, therefore, conclude that \n",
    "\\begin{align}\n",
    "\\vec{D} &= \\frac{\\vec{Q}} {\\vec{A}\\cdot\\vec{A}},\\nonumber\\\\\n",
    "                & = \\frac{\\vec{A} \\times \\vec{C}} {\\vec{A}\\cdot\\vec{A}},\\nonumber\\\\\n",
    "               &= \\frac{\\vec{A} \\times (\\vec{B} \\times \\vec{A})} {\\vec{A}\\cdot\\vec{A}} .\n",
    "\\end{align}"
   ]
  },
  {
   "cell_type": "code",
   "execution_count": 31,
   "id": "4feb56a5-336a-4818-ae6a-ff8d45847e8e",
   "metadata": {},
   "outputs": [
    {
     "data": {
      "text/plain": [
       "(array([ 2.08163265, -1.87755102,  0.24489796]),\n",
       " array([ 2.08163265, -1.87755102,  0.24489796]),\n",
       " array([0., 0., 0.]))"
      ]
     },
     "execution_count": 31,
     "metadata": {},
     "output_type": "execute_result"
    }
   ],
   "source": [
    "D1 = np.cross(A, np.cross(B, A)) / np.dot(A, A)\n",
    "\n",
    "# compare with previous result for D\n",
    "D, D1, D-D1"
   ]
  },
  {
   "cell_type": "code",
   "execution_count": null,
   "id": "0f6ec05c-3fca-4d14-b4f0-fbb44c134872",
   "metadata": {},
   "outputs": [],
   "source": []
  }
 ],
 "metadata": {
  "kernelspec": {
   "display_name": "Python 3 (ipykernel)",
   "language": "python",
   "name": "python3"
  },
  "language_info": {
   "codemirror_mode": {
    "name": "ipython",
    "version": 3
   },
   "file_extension": ".py",
   "mimetype": "text/x-python",
   "name": "python",
   "nbconvert_exporter": "python",
   "pygments_lexer": "ipython3",
   "version": "3.11.5"
  }
 },
 "nbformat": 4,
 "nbformat_minor": 5
}
